{
 "cells": [
  {
   "cell_type": "code",
   "execution_count": 12,
   "metadata": {},
   "outputs": [
    {
     "name": "stdout",
     "output_type": "stream",
     "text": [
      "Requirement already satisfied: pandas in c:\\users\\zaina\\appdata\\local\\programs\\python\\python312\\lib\\site-packages (2.2.3)\n",
      "Requirement already satisfied: numpy in c:\\users\\zaina\\appdata\\local\\programs\\python\\python312\\lib\\site-packages (2.0.2)\n",
      "Requirement already satisfied: matplotlib in c:\\users\\zaina\\appdata\\local\\programs\\python\\python312\\lib\\site-packages (3.10.0)\n",
      "Requirement already satisfied: seaborn in c:\\users\\zaina\\appdata\\local\\programs\\python\\python312\\lib\\site-packages (0.13.2)\n",
      "Requirement already satisfied: plotly in c:\\users\\zaina\\appdata\\local\\programs\\python\\python312\\lib\\site-packages (6.0.0)\n",
      "Requirement already satisfied: python-dateutil>=2.8.2 in c:\\users\\zaina\\appdata\\local\\programs\\python\\python312\\lib\\site-packages (from pandas) (2.9.0.post0)\n",
      "Requirement already satisfied: pytz>=2020.1 in c:\\users\\zaina\\appdata\\local\\programs\\python\\python312\\lib\\site-packages (from pandas) (2024.2)\n",
      "Requirement already satisfied: tzdata>=2022.7 in c:\\users\\zaina\\appdata\\local\\programs\\python\\python312\\lib\\site-packages (from pandas) (2024.2)\n",
      "Requirement already satisfied: contourpy>=1.0.1 in c:\\users\\zaina\\appdata\\local\\programs\\python\\python312\\lib\\site-packages (from matplotlib) (1.3.1)\n",
      "Requirement already satisfied: cycler>=0.10 in c:\\users\\zaina\\appdata\\local\\programs\\python\\python312\\lib\\site-packages (from matplotlib) (0.12.1)\n",
      "Requirement already satisfied: fonttools>=4.22.0 in c:\\users\\zaina\\appdata\\local\\programs\\python\\python312\\lib\\site-packages (from matplotlib) (4.55.3)\n",
      "Requirement already satisfied: kiwisolver>=1.3.1 in c:\\users\\zaina\\appdata\\local\\programs\\python\\python312\\lib\\site-packages (from matplotlib) (1.4.8)\n",
      "Requirement already satisfied: packaging>=20.0 in c:\\users\\zaina\\appdata\\local\\programs\\python\\python312\\lib\\site-packages (from matplotlib) (24.2)\n",
      "Requirement already satisfied: pillow>=8 in c:\\users\\zaina\\appdata\\local\\programs\\python\\python312\\lib\\site-packages (from matplotlib) (11.0.0)\n",
      "Requirement already satisfied: pyparsing>=2.3.1 in c:\\users\\zaina\\appdata\\local\\programs\\python\\python312\\lib\\site-packages (from matplotlib) (3.2.0)\n",
      "Requirement already satisfied: narwhals>=1.15.1 in c:\\users\\zaina\\appdata\\local\\programs\\python\\python312\\lib\\site-packages (from plotly) (1.19.1)\n",
      "Requirement already satisfied: six>=1.5 in c:\\users\\zaina\\appdata\\local\\programs\\python\\python312\\lib\\site-packages (from python-dateutil>=2.8.2->pandas) (1.17.0)\n"
     ]
    },
    {
     "name": "stderr",
     "output_type": "stream",
     "text": [
      "\n",
      "[notice] A new release of pip is available: 23.2.1 -> 25.0.1\n",
      "[notice] To update, run: python.exe -m pip install --upgrade pip\n"
     ]
    }
   ],
   "source": [
    "# Install necessary libraries (if not already installed)\n",
    "!pip install pandas numpy matplotlib seaborn plotly\n",
    "\n",
    "# Import Libraries\n",
    "import pandas as pd\n",
    "import numpy as np\n",
    "import matplotlib.pyplot as plt\n",
    "import seaborn as sns\n",
    "import plotly.express as px\n",
    "import plotly.graph_objects as go"
   ]
  },
  {
   "cell_type": "code",
   "execution_count": null,
   "metadata": {},
   "outputs": [
    {
     "name": "stderr",
     "output_type": "stream",
     "text": [
      "C:\\Users\\zaina\\AppData\\Local\\Temp\\ipykernel_28408\\3172392188.py:22: FutureWarning:\n",
      "\n",
      "A value is trying to be set on a copy of a DataFrame or Series through chained assignment using an inplace method.\n",
      "The behavior will change in pandas 3.0. This inplace method will never work because the intermediate object on which we are setting values always behaves as a copy.\n",
      "\n",
      "For example, when doing 'df[col].method(value, inplace=True)', try using 'df.method({col: value}, inplace=True)' or df[col] = df[col].method(value) instead, to perform the operation inplace on the original object.\n",
      "\n",
      "\n",
      "\n",
      "C:\\Users\\zaina\\AppData\\Local\\Temp\\ipykernel_28408\\3172392188.py:23: FutureWarning:\n",
      "\n",
      "A value is trying to be set on a copy of a DataFrame or Series through chained assignment using an inplace method.\n",
      "The behavior will change in pandas 3.0. This inplace method will never work because the intermediate object on which we are setting values always behaves as a copy.\n",
      "\n",
      "For example, when doing 'df[col].method(value, inplace=True)', try using 'df.method({col: value}, inplace=True)' or df[col] = df[col].method(value) instead, to perform the operation inplace on the original object.\n",
      "\n",
      "\n",
      "\n"
     ]
    },
    {
     "data": {
      "text/html": [
       "<div>\n",
       "<style scoped>\n",
       "    .dataframe tbody tr th:only-of-type {\n",
       "        vertical-align: middle;\n",
       "    }\n",
       "\n",
       "    .dataframe tbody tr th {\n",
       "        vertical-align: top;\n",
       "    }\n",
       "\n",
       "    .dataframe thead th {\n",
       "        text-align: right;\n",
       "    }\n",
       "</style>\n",
       "<table border=\"1\" class=\"dataframe\">\n",
       "  <thead>\n",
       "    <tr style=\"text-align: right;\">\n",
       "      <th></th>\n",
       "      <th>product_id</th>\n",
       "      <th>product_name</th>\n",
       "      <th>category</th>\n",
       "      <th>discounted_price</th>\n",
       "      <th>actual_price</th>\n",
       "      <th>discount_percentage</th>\n",
       "      <th>rating</th>\n",
       "      <th>rating_count</th>\n",
       "      <th>about_product</th>\n",
       "      <th>category_top</th>\n",
       "      <th>profit_margin</th>\n",
       "    </tr>\n",
       "  </thead>\n",
       "  <tbody>\n",
       "    <tr>\n",
       "      <th>0</th>\n",
       "      <td>B07JW9H4J1</td>\n",
       "      <td>Wayona Nylon Braided USB to Lightning Fast Cha...</td>\n",
       "      <td>Computers&amp;Accessories|Accessories&amp;Peripherals|...</td>\n",
       "      <td>399.0</td>\n",
       "      <td>1099.0</td>\n",
       "      <td>64.0</td>\n",
       "      <td>4.2</td>\n",
       "      <td>24269.0</td>\n",
       "      <td>High Compatibility : Compatible With iPhone 12...</td>\n",
       "      <td>Computers&amp;Accessories</td>\n",
       "      <td>700.0</td>\n",
       "    </tr>\n",
       "    <tr>\n",
       "      <th>1</th>\n",
       "      <td>B098NS6PVG</td>\n",
       "      <td>Ambrane Unbreakable 60W / 3A Fast Charging 1.5...</td>\n",
       "      <td>Computers&amp;Accessories|Accessories&amp;Peripherals|...</td>\n",
       "      <td>199.0</td>\n",
       "      <td>349.0</td>\n",
       "      <td>43.0</td>\n",
       "      <td>4.0</td>\n",
       "      <td>43994.0</td>\n",
       "      <td>Compatible with all Type C enabled devices, be...</td>\n",
       "      <td>Computers&amp;Accessories</td>\n",
       "      <td>150.0</td>\n",
       "    </tr>\n",
       "    <tr>\n",
       "      <th>2</th>\n",
       "      <td>B096MSW6CT</td>\n",
       "      <td>Sounce Fast Phone Charging Cable &amp; Data Sync U...</td>\n",
       "      <td>Computers&amp;Accessories|Accessories&amp;Peripherals|...</td>\n",
       "      <td>199.0</td>\n",
       "      <td>1899.0</td>\n",
       "      <td>90.0</td>\n",
       "      <td>3.9</td>\n",
       "      <td>7928.0</td>\n",
       "      <td>【 Fast Charger&amp; Data Sync】-With built-in safet...</td>\n",
       "      <td>Computers&amp;Accessories</td>\n",
       "      <td>1700.0</td>\n",
       "    </tr>\n",
       "    <tr>\n",
       "      <th>3</th>\n",
       "      <td>B08HDJ86NZ</td>\n",
       "      <td>boAt Deuce USB 300 2 in 1 Type-C &amp; Micro USB S...</td>\n",
       "      <td>Computers&amp;Accessories|Accessories&amp;Peripherals|...</td>\n",
       "      <td>329.0</td>\n",
       "      <td>699.0</td>\n",
       "      <td>53.0</td>\n",
       "      <td>4.2</td>\n",
       "      <td>94363.0</td>\n",
       "      <td>The boAt Deuce USB 300 2 in 1 cable is compati...</td>\n",
       "      <td>Computers&amp;Accessories</td>\n",
       "      <td>370.0</td>\n",
       "    </tr>\n",
       "    <tr>\n",
       "      <th>4</th>\n",
       "      <td>B08CF3B7N1</td>\n",
       "      <td>Portronics Konnect L 1.2M Fast Charging 3A 8 P...</td>\n",
       "      <td>Computers&amp;Accessories|Accessories&amp;Peripherals|...</td>\n",
       "      <td>154.0</td>\n",
       "      <td>399.0</td>\n",
       "      <td>61.0</td>\n",
       "      <td>4.2</td>\n",
       "      <td>16905.0</td>\n",
       "      <td>[CHARGE &amp; SYNC FUNCTION]- This cable comes wit...</td>\n",
       "      <td>Computers&amp;Accessories</td>\n",
       "      <td>245.0</td>\n",
       "    </tr>\n",
       "  </tbody>\n",
       "</table>\n",
       "</div>"
      ],
      "text/plain": [
       "   product_id                                       product_name  \\\n",
       "0  B07JW9H4J1  Wayona Nylon Braided USB to Lightning Fast Cha...   \n",
       "1  B098NS6PVG  Ambrane Unbreakable 60W / 3A Fast Charging 1.5...   \n",
       "2  B096MSW6CT  Sounce Fast Phone Charging Cable & Data Sync U...   \n",
       "3  B08HDJ86NZ  boAt Deuce USB 300 2 in 1 Type-C & Micro USB S...   \n",
       "4  B08CF3B7N1  Portronics Konnect L 1.2M Fast Charging 3A 8 P...   \n",
       "\n",
       "                                            category  discounted_price  \\\n",
       "0  Computers&Accessories|Accessories&Peripherals|...             399.0   \n",
       "1  Computers&Accessories|Accessories&Peripherals|...             199.0   \n",
       "2  Computers&Accessories|Accessories&Peripherals|...             199.0   \n",
       "3  Computers&Accessories|Accessories&Peripherals|...             329.0   \n",
       "4  Computers&Accessories|Accessories&Peripherals|...             154.0   \n",
       "\n",
       "   actual_price  discount_percentage  rating  rating_count  \\\n",
       "0        1099.0                 64.0     4.2       24269.0   \n",
       "1         349.0                 43.0     4.0       43994.0   \n",
       "2        1899.0                 90.0     3.9        7928.0   \n",
       "3         699.0                 53.0     4.2       94363.0   \n",
       "4         399.0                 61.0     4.2       16905.0   \n",
       "\n",
       "                                       about_product           category_top  \\\n",
       "0  High Compatibility : Compatible With iPhone 12...  Computers&Accessories   \n",
       "1  Compatible with all Type C enabled devices, be...  Computers&Accessories   \n",
       "2  【 Fast Charger& Data Sync】-With built-in safet...  Computers&Accessories   \n",
       "3  The boAt Deuce USB 300 2 in 1 cable is compati...  Computers&Accessories   \n",
       "4  [CHARGE & SYNC FUNCTION]- This cable comes wit...  Computers&Accessories   \n",
       "\n",
       "   profit_margin  \n",
       "0          700.0  \n",
       "1          150.0  \n",
       "2         1700.0  \n",
       "3          370.0  \n",
       "4          245.0  "
      ]
     },
     "execution_count": 14,
     "metadata": {},
     "output_type": "execute_result"
    }
   ],
   "source": [
    "def load_and_clean_data(filepath):\n",
    "    df = pd.read_csv(filepath)\n",
    "    \n",
    "    # Dropping unnecessary columns\n",
    "    columns_to_drop = [\"img_link\", \"product_link\", \"user_id\", \"user_name\", \"review_id\", \"review_title\", \"review_content\"]\n",
    "    df.drop(columns=columns_to_drop, errors=\"ignore\", inplace=True)\n",
    "    \n",
    "    # Extracting main category\n",
    "    df[\"category_top\"] = df[\"category\"].astype(str).apply(lambda x: x.split('|')[0])\n",
    "    \n",
    "    # Cleaning and conversion to numeric columns\n",
    "    for col in [\"discounted_price\", \"actual_price\", \"rating_count\"]:\n",
    "        df[col] = df[col].astype(str).str.replace(r\"[^\\d.]\", \"\", regex=True)\n",
    "        df[col] = pd.to_numeric(df[col], errors=\"coerce\")\n",
    "    \n",
    "    if \"discount_percentage\" in df.columns:\n",
    "        df[\"discount_percentage\"] = df[\"discount_percentage\"].astype(str).str.replace(\"%\", \"\").astype(float)\n",
    "    \n",
    "    df[\"rating\"] = pd.to_numeric(df[\"rating\"], errors=\"coerce\")\n",
    "    \n",
    "    # Handling missing values\n",
    "    df[\"rating\"].fillna(df[\"rating\"].mean(), inplace=True)\n",
    "    df[\"rating_count\"].fillna(df[\"rating_count\"].median(), inplace=True)\n",
    "    df.dropna(inplace=True)\n",
    "    \n",
    "    # Profit margin column\n",
    "    df[\"profit_margin\"] = df[\"actual_price\"] - df[\"discounted_price\"]\n",
    "    \n",
    "    return df\n",
    "\n",
    "data = load_and_clean_data(\"amazon.csv\")\n",
    "\n",
    "data.head()"
   ]
  },
  {
   "cell_type": "code",
   "execution_count": null,
   "metadata": {},
   "outputs": [
    {
     "name": "stdout",
     "output_type": "stream",
     "text": [
      "Total Products: 1465\n",
      "Average Rating: 4.1\n",
      "Top Category: Electronics\n",
      "Average Rating Count: 18277\n"
     ]
    }
   ],
   "source": [
    "# Cards to be shown on streamlit\n",
    "total_products = data.shape[0]\n",
    "average_rating = round(data[\"rating\"].mean(), 2)\n",
    "top_category = data[\"category_top\"].mode()[0]\n",
    "average_rating_count = int(data[\"rating_count\"].mean())\n",
    "\n",
    "print(f\"Total Products: {total_products}\")\n",
    "print(f\"Average Rating: {average_rating}\")\n",
    "print(f\"Top Category: {top_category}\")\n",
    "print(f\"Average Rating Count: {average_rating_count}\")\n"
   ]
  },
  {
   "cell_type": "code",
   "execution_count": 21,
   "metadata": {},
   "outputs": [
    {
     "data": {
      "application/vnd.plotly.v1+json": {
       "config": {
        "plotlyServerURL": "https://plot.ly"
       },
       "data": [
        {
         "bingroup": "x",
         "hovertemplate": "rating=%{x}<br>count=%{y}<extra></extra>",
         "legendgroup": "",
         "marker": {
          "color": "#636efa",
          "pattern": {
           "shape": ""
          }
         },
         "name": "",
         "nbinsx": 10,
         "orientation": "v",
         "showlegend": false,
         "type": "histogram",
         "x": {
          "bdata": "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",
          "dtype": "f8"
         },
         "xaxis": "x",
         "yaxis": "y"
        },
        {
         "hovertemplate": "rating=%{x}<extra></extra>",
         "legendgroup": "",
         "marker": {
          "color": "#636efa"
         },
         "name": "",
         "notched": true,
         "showlegend": false,
         "type": "box",
         "x": {
          "bdata": "zczMzMzMEEAAAAAAAAAQQDMzMzMzMw9AzczMzMzMEEDNzMzMzMwQQDMzMzMzMw9AZmZmZmZmEEAzMzMzMzMRQM3MzMzMzBBAAAAAAAAAEEAzMzMzMzMRQM3MzMzMzBBAmpmZmZmZEUDNzMzMzMwQQGZmZmZmZhBAmpmZmZmZEUDNzMzMzMwQQAAAAAAAABBAZmZmZmZmEEAzMzMzMzMRQAAAAAAAABJAmpmZmZmZDUAzMzMzMzMRQAAAAAAAABBAMzMzMzMzEUDNzMzMzMwQQM3MzMzMzBBAAAAAAAAAEECamZmZmZkRQDMzMzMzMxFAAAAAAAAAEkAAAAAAAAAQQDMzMzMzMxFAMzMzMzMzEUAzMzMzMzMPQDMzMzMzMw9AmpmZmZmZEUAAAAAAAAAQQM3MzMzMzBBAzczMzMzMEEAAAAAAAAASQDMzMzMzMxFAzczMzMzMEEAzMzMzMzMRQAAAAAAAABBAZmZmZmZmCkBmZmZmZmYQQJqZmZmZmRFAzczMzMzMDEDNzMzMzMwQQJqZmZmZmRFAzczMzMzMEEAzMzMzMzMRQM3MzMzMzBBAZmZmZmZmEECamZmZmZkNQM3MzMzMzBBAzczMzMzMEEDNzMzMzMwQQDMzMzMzMxFAmpmZmZmZDUAzMzMzMzMRQAAAAAAAABBAzczMzMzMEEDNzMzMzMwQQJqZmZmZmRFAZmZmZmZmEEAzMzMzMzMRQM3MzMzMzBBAMzMzMzMzEUAAAAAAAAASQGZmZmZmZhBAzczMzMzMEEAAAAAAAAAQQGZmZmZmZhBAZmZmZmZmEEAAAAAAAAAQQGZmZmZmZhBAMzMzMzMzD0AAAAAAAAAQQM3MzMzMzBBAAAAAAAAAEEAzMzMzMzMLQJqZmZmZmRFAzczMzMzMEEDNzMzMzMwQQDMzMzMzMxFAMzMzMzMzEUAAAAAAAAASQM3MzMzMzBBAzczMzMzMDEDNzMzMzMwQQM3MzMzMzBBAZmZmZmZmEEDNzMzMzMwQQJqZmZmZmQ1AZmZmZmZmDkCamZmZmZkNQAAAAAAAABJAZmZmZmZmEEAzMzMzMzMRQDMzMzMzMxFAAAAAAAAAEEDNzMzMzMwQQM3MzMzMzBBAMzMzMzMzEUDNzMzMzMwQQDMzMzMzMxFAMzMzMzMzEUAzMzMzMzMPQGZmZmZmZhBAMzMzMzMzEUAzMzMzMzMRQGZmZmZmZhBAAAAAAAAAEkBmZmZmZmYQQM3MzMzMzAxAAAAAAAAADEAAAAAAAAAQQGZmZmZmZg5AmpmZmZmZEUCamZmZmZkNQDMzMzMzMxFAZmZmZmZmEEDNzMzMzMwQQGZmZmZmZhBAMzMzMzMzEUDNzMzMzMwQQM3MzMzMzBBAmpmZmZmZEUAzMzMzMzMRQDMzMzMzMxFAAAAAAAAAEEAzMzMzMzMPQM3MzMzMzBBAMzMzMzMzEUAzMzMzMzMPQGZmZmZmZhJAMzMzMzMzD0AzMzMzMzMRQGZmZmZmZhBAmpmZmZmZEUCamZmZmZkJQM3MzMzMzBBAzczMzMzMEECamZmZmZkNQAAAAAAAABJAzczMzMzMEEDNzMzMzMwQQM3MzMzMzBBAZmZmZmZmEEAzMzMzMzMRQDMzMzMzMxFAMzMzMzMzEUAzMzMzMzMLQDMzMzMzMxFAmpmZmZmZEUAzMzMzMzMPQGZmZmZmZhBAMzMzMzMzD0AAAAAAAAAQQDMzMzMzMxFAAAAAAAAAEEAzMzMzMzMPQAAAAAAAABJAMzMzMzMzD0DNzMzMzMwQQAAAAAAAABBAMzMzMzMzEUAAAAAAAAAQQJqZmZmZmRFAMzMzMzMzEUAAAAAAAAAQQDMzMzMzMxFAAAAAAAAAFECamZmZmZkNQAAAAAAAABBAZmZmZmZmEEAAAAAAAAAQQGZmZmZmZgpAZmZmZmZmDkBmZmZmZmYQQGZmZmZmZhBAmpmZmZmZEUAzMzMzMzMRQDMzMzMzMxFAmpmZmZmZEUAzMzMzMzMRQDMzMzMzMw9AzczMzMzMEEDNzMzMzMwQQGZmZmZmZhBAMzMzMzMzEUCamZmZmZkNQGZmZmZmZhBAMzMzMzMzD0AAAAAAAAAQQM3MzMzMzBBAmpmZmZmZEUBmZmZmZmYQQDMzMzMzMxFAZmZmZmZmDkCamZmZmZkRQAAAAAAAABBAmpmZmZmZEUAAAAAAAAAQQM3MzMzMzBBAMzMzMzMzD0CamZmZmZkNQM3MzMzMzAxAAAAAAAAAEEAAAAAAAAAMQAAAAAAAABJAzczMzMzMEEBmZmZmZmYOQGZmZmZmZg5AZmZmZmZmEEAzMzMzMzMRQJqZmZmZmRFAMzMzMzMzD0DNzMzMzMwQQGZmZmZmZg5AZmZmZmZmEEBmZmZmZmYQQDMzMzMzMxFAmpmZmZmZDUAAAAAAAAAQQM3MzMzMzBBAZmZmZmZmEEAzMzMzMzMRQJqZmZmZmRFAMzMzMzMzEUAzMzMzMzMRQAAAAAAAAAxAMzMzMzMzD0AAAAAAAAASQDMzMzMzMwtAAAAAAAAAEEAAAAAAAAAQQJqZmZmZmRFAAAAAAAAAEEAzMzMzMzMRQAAAAAAAABBAzczMzMzMEEBmZmZmZmYOQJqZmZmZmRFAMzMzMzMzD0DNzMzMzMwQQDMzMzMzMw9AzczMzMzMEkDNzMzMzMwMQJqZmZmZmQ1AzczMzMzMEEAAAAAAAAAQQM3MzMzMzAxAMzMzMzMzEUDNzMzMzMwQQDMzMzMzMxFAzczMzMzMEEDNzMzMzMwQQJqZmZmZmRFAzczMzMzMEECamZmZmZkRQAAAAAAAAAhAAAAAAAAAEkAzMzMzMzMRQM3MzMzMzBBAmpmZmZmZEUAAAAAAAAAQQGZmZmZmZg5AMzMzMzMzEUDNzMzMzMwQQGZmZmZmZhBAAAAAAAAAEEDNzMzMzMwQQGZmZmZmZgpAMzMzMzMzEUBmZmZmZmYOQM3MzMzMzBBAmpmZmZmZDUAzMzMzMzMRQDMzMzMzMw9AAAAAAAAACEAzMzMzMzMRQAAAAAAAAAxAMzMzMzMzD0AAAAAAAAAQQDMzMzMzMxFAZmZmZmZmDkAzMzMzMzMRQGZmZmZmZgpAAAAAAAAAEkBmZmZmZmYQQM3MzMzMzBBAZmZmZmZmEECamZmZmZkRQM3MzMzMzBBAMzMzMzMzD0AAAAAAAAAQQAAAAAAAABJAmpmZmZmZDUDNzMzMzMwQQM3MzMzMzBBAzczMzMzMEEAzMzMzMzMRQJqZmZmZmRFAzczMzMzMEEAzMzMzMzMRQJqZmZmZmQ1AMzMzMzMzEUDNzMzMzMwQQJqZmZmZmRFAAAAAAAAADEBmZmZmZmYQQDMzMzMzMxFAzczMzMzMEEAAAAAAAAAQQDMzMzMzMw9AZmZmZmZmCkBmZmZmZmYOQAAAAAAAABBAMzMzMzMzEUAzMzMzMzMPQM3MzMzMzBBAAAAAAAAAFEBmZmZmZmYQQDMzMzMzMw9AzczMzMzMEEAzMzMzMzMRQGZmZmZmZg5AMzMzMzMzEUCamZmZmZkRQDMzMzMzMxFAMzMzMzMzEUDNzMzMzMwQQDMzMzMzMxFAZmZmZmZmDkAzMzMzMzMRQAAAAAAAABBAMzMzMzMzEUAzMzMzMzMRQAAAAAAAABBAAAAAAAAAEECamZmZmZkRQGZmZmZmZhBAAAAAAAAAEEAzMzMzMzMPQGZmZmZmZhBAzczMzMzMEEAzMzMzMzMPQAAAAAAAABBAAAAAAAAAEEBmZmZmZmYQQJqZmZmZmRFAzczMzMzMEEAzMzMzMzMRQDMzMzMzMxFAMzMzMzMzD0CamZmZmZkRQAAAAAAAABBAzczMzMzMEEBmZmZmZmYQQJqZmZmZmRFAZmZmZmZmEEDNzMzMzMwQQM3MzMzMzBBAZmZmZmZmEEAAAAAAAAAQQM3MzMzMzBBAzczMzMzMEEBmZmZmZmYQQGZmZmZmZhBAzczMzMzMEEAAAAAAAAAQQDMzMzMzMxFAMzMzMzMzEUBmZmZmZmYQQAAAAAAAABBAZmZmZmZmEEAzMzMzMzMPQM3MzMzMzBBAAAAAAAAAEECamZmZmZkRQM3MzMzMzBBAZmZmZmZmDkAzMzMzMzMRQM3MzMzMzBBAMzMzMzMzD0CamZmZmZkRQAAAAAAAABBAAAAAAAAAEEBmZmZmZmYOQM3MzMzMzBBAzczMzMzMEECamZmZmZkRQM3MzMzMzBBAAAAAAAAAEEAzMzMzMzMRQGZmZmZmZhBAZmZmZmZmEEBmZmZmZmYQQGZmZmZmZhBAmpmZmZmZEUAzMzMzMzMPQDMzMzMzMxFAAAAAAAAAEEAzMzMzMzMRQAAAAAAAABBAzczMzMzMDEBmZmZmZmYQQM3MzMzMzBBAZmZmZmZmEEBmZmZmZmYQQAAAAAAAABBAAAAAAAAAEEAAAAAAAAAMQDMzMzMzMxFAZmZmZmZmEEBmZmZmZmYQQGZmZmZmZhBAZmZmZmZmEEBmZmZmZmYOQDMzMzMzMxFAAAAAAAAAEEDNzMzMzMwQQGZmZmZmZhBAZmZmZmZmEEBmZmZmZmYQQDMzMzMzMxFAMzMzMzMzD0AAAAAAAAAQQAAAAAAAABJAAAAAAAAAEEAAAAAAAAAQQGZmZmZmZhBAZmZmZmZmEEAzMzMzMzMPQGZmZmZmZhBAZmZmZmZmEEAAAAAAAAAQQDMzMzMzMxFAAAAAAAAAEEBmZmZmZmYQQM3MzMzMzBBAAAAAAAAAEEBmZmZmZmYQQM3MzMzMzBBAZmZmZmZmEkAAAAAAAAAQQAAAAAAAABBAMzMzMzMzEUAzMzMzMzMRQM3MzMzMzBBAAAAAAAAAEEDNzMzMzMwQQAAAAAAAABBAZmZmZmZmEEAzMzMzMzMPQGZmZmZmZg5AzczMzMzMEkAzMzMzMzMRQM3MzMzMzBBAZmZmZmZmEEBmZmZmZmYKQJqZmZmZmRFAAAAAAAAAEEDNzMzMzMwQQAAAAAAAABJAZmZmZmZmEkDNzMzMzMwQQAAAAAAAABBAmpmZmZmZDUBmZmZmZmYQQGZmZmZmZhBAzczMzMzMEEDNzMzMzMwQQAAAAAAAABJAZmZmZmZmDkAAAAAAAAAQQGZmZmZmZhBAZmZmZmZmDkBmZmZmZmYQQGZmZmZmZg5AzczMzMzMEEDNzMzMzMwQQM3MzMzMzBBAAAAAAAAAEEAAAAAAAAAMQDMzMzMzMxFAZmZmZmZmEEAzMzMzMzMPQDMzMzMzMw9AZmZmZmZmCkAAAAAAAAAQQAAAAAAAABBAAAAAAAAAEEAzMzMzMzMPQDMzMzMzMxFAZmZmZmZmEEBmZmZmZmYQQDMzMzMzMxFAZmZmZmZmEEBmZmZmZmYQQDMzMzMzMxFAmpmZmZmZEUDNzMzMzMwQQGZmZmZmZgpAmpmZmZmZEUAzMzMzMzMRQGZmZmZmZhBAAAAAAAAAEEBmZmZmZmYQQDMzMzMzMxFAZmZmZmZmDkAzMzMzMzMPQJqZmZmZmQ1AAAAAAAAAEEDNzMzMzMwQQJqZmZmZmRFAMzMzMzMzD0AAAAAAAAASQM3MzMzMzBBAMzMzMzMzD0DNzMzMzMwQQGZmZmZmZhBAZmZmZmZmEEAzMzMzMzMRQGZmZmZmZhBAMzMzMzMzEUDNzMzMzMwMQGZmZmZmZhBAAAAAAAAAEEBmZmZmZmYQQDMzMzMzMxFAMzMzMzMzD0BmZmZmZmYQQGZmZmZmZhBAmpmZmZmZEUBmZmZmZmYOQDMzMzMzMxFAMzMzMzMzEUAAAAAAAAAMQAAAAAAAABBAMzMzMzMzD0AzMzMzMzMRQGZmZmZmZgZAZmZmZmZmDkAAAAAAAAASQDMzMzMzMxFAZmZmZmZmEEAAAAAAAAAIQAAAAAAAABBAMzMzMzMzD0BmZmZmZmYQQGZmZmZmZhBAMzMzMzMzEUAAAAAAAAAQQJqZmZmZmRFAMzMzMzMzEUDNzMzMzMwQQGZmZmZmZg5AMzMzMzMzEUAzMzMzMzMRQDMzMzMzMxFAAAAAAAAAEEAzMzMzMzMPQGZmZmZmZhBAmpmZmZmZDUDNzMzMzMwQQGZmZmZmZhBAAAAAAAAAEEBmZmZmZmYSQDMzMzMzMw9AAAAAAAAAEEAzMzMzMzMRQJqZmZmZmRFAZmZmZmZmEEBmZmZmZmYQQGZmZmZmZhBAmpmZmZmZEUAAAAAAAAASQGZmZmZmZhBAzczMzMzMEEAAAAAAAAASQGZmZmZmZhBAMzMzMzMzD0AzMzMzMzMRQGZmZmZmZg5AMzMzMzMzEUCamZmZmZkRQGZmZmZmZg5AZmZmZmZmDkAAAAAAAAAMQJqZmZmZmRFAZmZmZmZmEEBmZmZmZmYQQDMzMzMzMxFAAAAAAAAADEBmZmZmZmYQQGZmZmZmZhBAMzMzMzMzD0AzMzMzMzMPQGZmZmZmZhBAAAAAAAAAEEDNzMzMzMwQQDMzMzMzMxFAZmZmZmZmEEAAAAAAAAAQQM3MzMzMzBBAMzMzMzMzD0AzMzMzMzMRQM3MzMzMzBBAAAAAAAAAEkAAAAAAAAAQQM3MzMzMzBBAAAAAAAAAEkAzMzMzMzMRQDMzMzMzMw9AZmZmZmZmEEAzMzMzMzMRQM3MzMzMzBBAzczMzMzMEEAAAAAAAAAQQDMzMzMzMw9AZmZmZmZmEEAAAAAAAAASQJqZmZmZmQ1AAAAAAAAADEDNzMzMzMwQQAAAAAAAAAxAMzMzMzMzEUAzMzMzMzMPQM3MzMzMzBBAMzMzMzMzEUDNzMzMzMwQQAAAAAAAABBAZmZmZmZmEEAAAAAAAAASQM3MzMzMzBBAZmZmZmZmEEAzMzMzMzMPQDMzMzMzMxFAMzMzMzMzD0AAAAAAAAAQQAAAAAAAABBAAAAAAAAADEAzMzMzMzMRQGZmZmZmZg5AmpmZmZmZEUCamZmZmZkNQJqZmZmZmRFAmpmZmZmZEUCamZmZmZkRQM3MzMzMzBBAAAAAAAAAEkBmZmZmZmYOQGZmZmZmZg5AZmZmZmZmEEBmZmZmZmYQQJqZmZmZmRFAZmZmZmZmDkDNzMzMzMwQQGZmZmZmZhBAmpmZmZmZEUBmZmZmZmYQQGZmZmZmZhBAAAAAAAAADEDNzMzMzMwMQDMzMzMzMxFAZmZmZmZmDkAAAAAAAAAQQDMzMzMzMw9AZmZmZmZmEEAzMzMzMzMRQJqZmZmZmRFAMzMzMzMzEUAzMzMzMzMRQGZmZmZmZhBAmpmZmZmZEUCamZmZmZkRQGZmZmZmZg5AZmZmZmZmDkAAAAAAAAAQQJqZmZmZmRFAmpmZmZmZEUAAAAAAAAASQAAAAAAAABBAAAAAAAAAEEAzMzMzMzMRQM3MzMzMzBBAZmZmZmZmDkAzMzMzMzMRQGZmZmZmZhBAMzMzMzMzEUAAAAAAAAAQQDMzMzMzMxFAzczMzMzMEEAAAAAAAAAQQJqZmZmZmRFAmpmZmZmZEUAAAAAAAAASQM3MzMzMzBBAZmZmZmZmEEAAAAAAAAASQM3MzMzMzBBAMzMzMzMzEUAzMzMzMzMPQAAAAAAAABJAZmZmZmZmEEDNzMzMzMwQQGZmZmZmZg5AMzMzMzMzEUAzMzMzMzMPQDMzMzMzMxFAMzMzMzMzEUAzMzMzMzMPQJqZmZmZmQ1AzczMzMzMEEAzMzMzMzMRQM3MzMzMzBBAMzMzMzMzD0AzMzMzMzMRQJqZmZmZmQ1AMzMzMzMzEUAzMzMzMzMRQDMzMzMzMw9AmpmZmZmZEUAAAAAAAAAQQAAAAAAAABJAMzMzMzMzD0AzMzMzMzMRQM3MzMzMzBBAZmZmZmZmEEDNzMzMzMwQQAAAAAAAABJAzczMzMzMEEDNzMzMzMwQQDMzMzMzMxFAAAAAAAAAEEAAAAAAAAASQGZmZmZmZg5AMzMzMzMzD0AAAAAAAAAQQGZmZmZmZhBAMzMzMzMzC0AAAAAAAAAQQDMzMzMzMwtAMzMzMzMzEUAzMzMzMzMPQGZmZmZmZhBAMzMzMzMzEUAAAAAAAAASQM3MzMzMzBBAZmZmZmZmEECamZmZmZkRQDMzMzMzMxFAMzMzMzMzEUAzMzMzMzMRQM3MzMzMzBBAZmZmZmZmEEBmZmZmZmYQQAAAAAAAABJAmpmZmZmZEUAzMzMzMzMRQDMzMzMzMxFAMzMzMzMzEUAAAAAAAAAQQDMzMzMzMxFAAAAAAAAAEECamZmZmZkRQAAAAAAAABBAMzMzMzMzEUBmZmZmZmYKQJqZmZmZmQ1AZmZmZmZmEEAAAAAAAAAUQAAAAAAAABJAMzMzMzMzD0CamZmZmZkRQGZmZmZmZhBAzczMzMzMDEBmZmZmZmYOQM3MzMzMzAxAzczMzMzMEECamZmZmZkRQGZmZmZmZg5AzczMzMzMEEAzMzMzMzMRQJqZmZmZmRFAZmZmZmZmEECamZmZmZkRQJqZmZmZmRFAmpmZmZmZEUCamZmZmZkRQDMzMzMzMxFAMzMzMzMzEUAzMzMzMzMRQM3MzMzMzBBAMzMzMzMzEUDNzMzMzMwQQGZmZmZmZg5AMzMzMzMzEUAAAAAAAAASQGZmZmZmZhBAzczMzMzMEEAAAAAAAAAQQGZmZmZmZhBAZmZmZmZmEEAzMzMzMzMRQAAAAAAAABJAAAAAAAAAEkBmZmZmZmYQQDMzMzMzMxFAzczMzMzMDECamZmZmZkRQAAAAAAAABJAMzMzMzMzD0AAAAAAAAAQQAAAAAAAABBAmpmZmZmZEUBmZmZmZmYSQJqZmZmZmRFAmpmZmZmZEUAzMzMzMzMRQDMzMzMzMxFAmpmZmZmZEUAAAAAAAAAQQM3MzMzMzBBAZmZmZmZmDkBmZmZmZmYQQM3MzMzMzBBAzczMzMzMEECamZmZmZkRQDMzMzMzMxFAZmZmZmZmEECamZmZmZkRQDMzMzMzMw9AMzMzMzMzD0DNzMzMzMwMQJqZmZmZmRFAAAAAAAAAEEAAAAAAAAAMQGZmZmZmZhBAZmZmZmZmEEAAAAAAAAAQQGZmZmZmZhBAAAAAAAAAEEBmZmZmZmYOQDMzMzMzMxFAzczMzMzMEEBmZmZmZmYQQM3MzMzMzBBAAAAAAAAAEkBmZmZmZmYSQDMzMzMzMxFAAAAAAAAAEEDNzMzMzMwQQGZmZmZmZgpAMzMzMzMzEUCamZmZmZkNQDMzMzMzMw9AMzMzMzMzEUBmZmZmZmYQQM3MzMzMzBBAAAAAAAAAEkAAAAAAAAAQQAAAAAAAABJAAAAAAAAADEAAAAAAAAASQDMzMzMzMxFAZmZmZmZmCkBmZmZmZmYQQGZmZmZmZg5AAAAAAAAADEBmZmZmZmYQQAAAAAAAABJAmpmZmZmZEUBmZmZmZmYQQDMzMzMzMxFAzczMzMzMDEAAAAAAAAAQQGZmZmZmZhBAAAAAAAAAEkDNzMzMzMwQQDMzMzMzMxFAzczMzMzMEEBmZmZmZmYSQAAAAAAAABJAMzMzMzMzEUBmZmZmZmYQQAAAAAAAABJAAAAAAAAADECamZmZmZkRQM3MzMzMzBBAmpmZmZmZEUCamZmZmZkRQM3MzMzMzBBAAAAAAAAAEkAzMzMzMzMRQGZmZmZmZg5AMzMzMzMzD0AAAAAAAAAQQGZmZmZmZhBAmpmZmZmZEUCamZmZmZkRQJqZmZmZmRFAAAAAAAAADEAAAAAAAAASQGZmZmZmZhBAmpmZmZmZEUBmZmZmZmYQQM3MzMzMzBBAzczMzMzMEEAzMzMzMzMRQDMzMzMzMxFAmpmZmZmZDUAzMzMzMzMPQAAAAAAAABJAZmZmZmZmEEAAAAAAAAAQQGZmZmZmZg5AMzMzMzMzC0AzMzMzMzMRQDMzMzMzMxFAMzMzMzMzEUDNzMzMzMwQQGZmZmZmZhBAAAAAAAAAEEAzMzMzMzMRQAAAAAAAABBAZmZmZmZmEEAAAAAAAAAQQGZmZmZmZg5AzczMzMzMEEAzMzMzMzMRQJqZmZmZmRFAZmZmZmZmEEAAAAAAAAASQAAAAAAAABBAzczMzMzMEEAzMzMzMzMPQDMzMzMzMxFAAAAAAAAAEEDNzMzMzMwQQDMzMzMzMxFAzczMzMzMEEDNzMzMzMwQQGZmZmZmZhBAMzMzMzMzEUAzMzMzMzMRQM3MzMzMzBBAAAAAAAAAEkCamZmZmZkRQM3MzMzMzBBAZmZmZmZmEEAzMzMzMzMRQJqZmZmZmRFAZmZmZmZmEEDNzMzMzMwMQAAAAAAAABBAAAAAAAAAEECamZmZmZkRQDMzMzMzMw9AMzMzMzMzEUBmZmZmZmYSQJqZmZmZmRFAAAAAAAAAEkAzMzMzMzMPQGZmZmZmZhBAMzMzMzMzEUAAAAAAAAASQAAAAAAAABJAzczMzMzMDEBmZmZmZmYQQDMzMzMzMxFAZmZmZmZmDkBmZmZmZmYSQGZmZmZmZhBAAAAAAAAAEEAAAAAAAAASQDMzMzMzMxFAAAAAAAAAEEAAAAAAAAASQAAAAAAAABBAAAAAAAAAEkBmZmZmZmYQQDMzMzMzMxFAZmZmZmZmEEAAAAAAAAAQQGZmZmZmZhBAZmZmZmZmEECamZmZmZkRQAAAAAAAABBAZmZmZmZmEECamZmZmZkRQDMzMzMzMxFAzczMzMzMEEDNzMzMzMwMQM3MzMzMzBBAzczMzMzMEEAzMzMzMzMPQM3MzMzMzBBAAAAAAAAAEkAzMzMzMzMRQM3MzMzMzBBAZmZmZmZmEEBmZmZmZmYQQGZmZmZmZhJAZmZmZmZmDkAzMzMzMzMRQM3MzMzMzBBAzczMzMzMEECamZmZmZkRQDMzMzMzMw9AAAAAAAAAEEDNzMzMzMwQQJqZmZmZmQ1AAAAAAAAAEkAAAAAAAAASQM3MzMzMzAxAMzMzMzMzEUBmZmZmZmYQQDMzMzMzMw9AzczMzMzMDEAAAAAAAAAQQGZmZmZmZhBAmpmZmZmZDUAzMzMzMzMPQGZmZmZmZhBAMzMzMzMzD0AzMzMzMzMPQDMzMzMzMw9AZmZmZmZmDkBmZmZmZmYOQGZmZmZmZhBAZmZmZmZmEEBmZmZmZmYKQM3MzMzMzBBAAAAAAAAAEEAzMzMzMzMRQAAAAAAAABBAAAAAAAAAEkBmZmZmZmYQQAAAAAAAABBAzczMzMzMEEBmZmZmZmYOQM3MzMzMzBBAzczMzMzMEEDNzMzMzMwMQGZmZmZmZg5AZmZmZmZmEEBmZmZmZmYQQGZmZmZmZhBAZmZmZmZmEEDNzMzMzMwQQAAAAAAAABBAMzMzMzMzEUDNzMzMzMwQQM3MzMzMzBBAmpmZmZmZDUBmZmZmZmYQQJqZmZmZmRFAZmZmZmZmDkAAAAAAAAAQQM3MzMzMzBBAZmZmZmZmDkDNzMzMzMwQQAAAAAAAABBAMzMzMzMzD0AzMzMzMzMRQGZmZmZmZg5AAAAAAAAAEEDNzMzMzMwQQM3MzMzMzBBAzczMzMzMDEAzMzMzMzMRQAAAAAAAABBAzczMzMzMEEBmZmZmZmYQQAAAAAAAABBAMzMzMzMzEUAAAAAAAAAQQDMzMzMzMw9AzczMzMzMEEBmZmZmZmYQQJqZmZmZmRFAAAAAAAAAEEBmZmZmZmYOQAAAAAAAABBAzczMzMzMCEAzMzMzMzMRQM3MzMzMzBBAmpmZmZmZEUBmZmZmZmYQQM3MzMzMzBBAZmZmZmZmEEBmZmZmZmYQQGZmZmZmZhBAMzMzMzMzD0AzMzMzMzMPQGZmZmZmZg5AAAAAAAAAEEDNzMzMzMwQQGZmZmZmZhBAMzMzMzMzEUCamZmZmZkNQM3MzMzMzBBAMzMzMzMzEUAzMzMzMzMRQJqZmZmZmRFAZmZmZmZmDkAAAAAAAAASQGZmZmZmZg5AZmZmZmZmDkBmZmZmZmYQQGZmZmZmZhBAZmZmZmZmDkBmZmZmZmYKQAAAAAAAABBAZmZmZmZmEkAzMzMzMzMPQJqZmZmZmQ1AzczMzMzMEEBmZmZmZmYQQGZmZmZmZhBAZmZmZmZmDkBmZmZmZmYQQGZmZmZmZhJAZmZmZmZmEEDNzMzMzMwQQDMzMzMzMw9AZmZmZmZmEEBmZmZmZmYQQAAAAAAAABBAmpmZmZmZDUBmZmZmZmYQQGZmZmZmZhBAZmZmZmZmEEBmZmZmZmYKQGZmZmZmZhBAZmZmZmZmEECamZmZmZkRQDMzMzMzMxFAZmZmZmZmEECamZmZmZkNQDMzMzMzMxNAAAAAAAAAEkAAAAAAAAAQQGZmZmZmZhBAMzMzMzMzD0BmZmZmZmYQQM3MzMzMzBBAZmZmZmZmEEAAAAAAAAAMQDMzMzMzMxFAMzMzMzMzD0DNzMzMzMwQQGZmZmZmZg5AAAAAAAAAEkBmZmZmZmYOQGZmZmZmZhBAzczMzMzMEEBmZmZmZmYQQM3MzMzMzBBAAAAAAAAAEkAAAAAAAAAQQJqZmZmZmRFAAAAAAAAAEEAAAAAAAAAQQDMzMzMzMw9AAAAAAAAAEEBmZmZmZmYOQM3MzMzMzBBAMzMzMzMzEUDNzMzMzMwQQDMzMzMzMxFAzczMzMzMEECamZmZmZkRQGZmZmZmZg5AZmZmZmZmEEAzMzMzMzMPQDMzMzMzMxFAmpmZmZmZEUDNzMzMzMwMQGZmZmZmZg5AAAAAAAAAEEBmZmZmZmYQQDMzMzMzMxFAAAAAAAAAEEAzMzMzMzMPQJqZmZmZmRFAmpmZmZmZDUDNzMzMzMwMQJqZmZmZmQ1AAAAAAAAAEEDNzMzMzMwQQGZmZmZmZg5AzczMzMzMEEAzMzMzMzMPQAAAAAAAABBAZmZmZmZmEEAzMzMzMzMTQM3MzMzMzBBAZmZmZmZmEEAAAAAAAAAQQDMzMzMzMw9AZmZmZmZmEEAzMzMzMzMRQGZmZmZmZhBAzczMzMzMEEAzMzMzMzMPQJqZmZmZmQ1AZmZmZmZmEEAAAAAAAAAQQGZmZmZmZg5AzczMzMzMEEBmZmZmZmYSQGZmZmZmZhBAZmZmZmZmCkDNzMzMzMwQQDMzMzMzMxFAMzMzMzMzEUAzMzMzMzMRQM3MzMzMzBJAmpmZmZmZEUAzMzMzMzMPQM3MzMzMzBJAZmZmZmZmEEBmZmZmZmYOQJqZmZmZmRFAMzMzMzMzEUAzMzMzMzMLQM3MzMzMzBBAmpmZmZmZDUAzMzMzMzMRQDMzMzMzMxFAmpmZmZmZEUBmZmZmZmYQQAAAAAAAABBAmpmZmZmZEUBmZmZmZmYOQDMzMzMzMxFAZmZmZmZmDkBmZmZmZmYCQAAAAAAAABJAAAAAAAAAEECamZmZmZkNQAAAAAAAABBAmpmZmZmZEUBmZmZmZmYQQJqZmZmZmRFAzczMzMzMCEAzMzMzMzMRQJqZmZmZmRFAmpmZmZmZEUBmZmZmZmYQQGZmZmZmZhBAAAAAAAAAEEDNzMzMzMwMQDMzMzMzMw9AMzMzMzMzD0BmZmZmZmYOQGZmZmZmZhBAZmZmZmZmEEBmZmZmZmYQQGZmZmZmZg5AMzMzMzMzEUAAAAAAAAASQM3MzMzMzBBAMzMzMzMzD0AAAAAAAAAMQDMzMzMzMxFAMzMzMzMzD0AzMzMzMzMPQAAAAAAAABBAzczMzMzMEkBmZmZmZmYQQGZmZmZmZg5AZmZmZmZmEEC5yXUZ52IQQGZmZmZmZhBAMzMzMzMzD0BmZmZmZmYOQGZmZmZmZhBAMzMzMzMzEUAzMzMzMzMPQGZmZmZmZgZAAAAAAAAAEEAAAAAAAAASQGZmZmZmZhJAZmZmZmZmEEBmZmZmZmYQQDMzMzMzMwtAZmZmZmZmEkDNzMzMzMwQQDMzMzMzMw9AzczMzMzMEEDNzMzMzMwQQGZmZmZmZhBAMzMzMzMzE0CamZmZmZkRQDMzMzMzMxFAMzMzMzMzEUAAAAAAAAAQQDMzMzMzMxFAAAAAAAAAEECamZmZmZkRQGZmZmZmZhBAzczMzMzMDEAAAAAAAAAAQAAAAAAAABBAmpmZmZmZDUBmZmZmZmYOQDMzMzMzMw9AzczMzMzMCEAAAAAAAAAIQAAAAAAAABBAmpmZmZmZEUBmZmZmZmYQQM3MzMzMzAxAmpmZmZmZEUDNzMzMzMwQQDMzMzMzMxFAZmZmZmZmDkBmZmZmZmYQQAAAAAAAABBAzczMzMzMEEDNzMzMzMwMQM3MzMzMzBBAZmZmZmZmEEDNzMzMzMwQQDMzMzMzMw9AAAAAAAAAEEDNzMzMzMwQQM3MzMzMzBBAZmZmZmZmEECamZmZmZkRQGZmZmZmZhBAzczMzMzMEEBmZmZmZmYQQDMzMzMzMw9AMzMzMzMzD0DNzMzMzMwQQM3MzMzMzBBAmpmZmZmZDUCamZmZmZkNQDMzMzMzMwtAzczMzMzMEEAAAAAAAAAQQGZmZmZmZhBAMzMzMzMzD0AAAAAAAAAQQDMzMzMzMw9AzczMzMzMEEAzMzMzMzMRQAAAAAAAABBAzczMzMzMBEBmZmZmZmYOQAAAAAAAABJAAAAAAAAADEAzMzMzMzMPQAAAAAAAABBAAAAAAAAAEEAAAAAAAAAMQAAAAAAAABBAMzMzMzMzC0DNzMzMzMwQQGZmZmZmZg5AZmZmZmZmEEDNzMzMzMwQQDMzMzMzMxFAzczMzMzMEEBmZmZmZmYQQDMzMzMzMw9AZmZmZmZmCkAzMzMzMzMRQDMzMzMzMw9AMzMzMzMzEUDNzMzMzMwMQGZmZmZmZg5AMzMzMzMzD0BmZmZmZmYSQGZmZmZmZg5AMzMzMzMzD0BmZmZmZmYQQM3MzMzMzAxAmpmZmZmZEUAzMzMzMzMRQM3MzMzMzBJAMzMzMzMzEUAzMzMzMzMPQDMzMzMzMw9AmpmZmZmZDUAAAAAAAAAMQAAAAAAAABBAZmZmZmZmEEAzMzMzMzMPQJqZmZmZmRFAMzMzMzMzEUAAAAAAAAASQAAAAAAAABBAMzMzMzMzD0DNzMzMzMwQQGZmZmZmZhBAmpmZmZmZDUBmZmZmZmYQQM3MzMzMzBBAMzMzMzMzEUDNzMzMzMwMQGZmZmZmZhBAAAAAAAAAEkDNzMzMzMwQQDMzMzMzMxFAAAAAAAAAEEDNzMzMzMwQQM3MzMzMzBBAAAAAAAAAEkBmZmZmZmYOQJqZmZmZmRFAZmZmZmZmEEDNzMzMzMwQQDMzMzMzMxFAZmZmZmZmEEDNzMzMzMwQQGZmZmZmZhBAMzMzMzMzD0AzMzMzMzMPQGZmZmZmZg5AZmZmZmZmEkDNzMzMzMwMQGZmZmZmZhBAzczMzMzMEEAzMzMzMzMRQDMzMzMzMw9AMzMzMzMzD0AAAAAAAAAQQJqZmZmZmRFAzczMzMzMEEAAAAAAAAASQGZmZmZmZhBAZmZmZmZmEEDNzMzMzMwQQM3MzMzMzBBAAAAAAAAAEEAzMzMzMzMRQM3MzMzMzAxAAAAAAAAADEAzMzMzMzMRQM3MzMzMzAxAMzMzMzMzB0DNzMzMzMwQQJqZmZmZmRFAZmZmZmZmEEBmZmZmZmYOQAAAAAAAAAxAZmZmZmZmEECamZmZmZkJQJqZmZmZmRFAzczMzMzMDEDNzMzMzMwIQAAAAAAAABBAZmZmZmZmEEDNzMzMzMwMQAAAAAAAABBAMzMzMzMzEUA=",
          "dtype": "f8"
         },
         "xaxis": "x2",
         "yaxis": "y2"
        }
       ],
       "layout": {
        "barmode": "relative",
        "legend": {
         "tracegroupgap": 0
        },
        "template": {
         "data": {
          "bar": [
           {
            "error_x": {
             "color": "#2a3f5f"
            },
            "error_y": {
             "color": "#2a3f5f"
            },
            "marker": {
             "line": {
              "color": "#E5ECF6",
              "width": 0.5
             },
             "pattern": {
              "fillmode": "overlay",
              "size": 10,
              "solidity": 0.2
             }
            },
            "type": "bar"
           }
          ],
          "barpolar": [
           {
            "marker": {
             "line": {
              "color": "#E5ECF6",
              "width": 0.5
             },
             "pattern": {
              "fillmode": "overlay",
              "size": 10,
              "solidity": 0.2
             }
            },
            "type": "barpolar"
           }
          ],
          "carpet": [
           {
            "aaxis": {
             "endlinecolor": "#2a3f5f",
             "gridcolor": "white",
             "linecolor": "white",
             "minorgridcolor": "white",
             "startlinecolor": "#2a3f5f"
            },
            "baxis": {
             "endlinecolor": "#2a3f5f",
             "gridcolor": "white",
             "linecolor": "white",
             "minorgridcolor": "white",
             "startlinecolor": "#2a3f5f"
            },
            "type": "carpet"
           }
          ],
          "choropleth": [
           {
            "colorbar": {
             "outlinewidth": 0,
             "ticks": ""
            },
            "type": "choropleth"
           }
          ],
          "contour": [
           {
            "colorbar": {
             "outlinewidth": 0,
             "ticks": ""
            },
            "colorscale": [
             [
              0,
              "#0d0887"
             ],
             [
              0.1111111111111111,
              "#46039f"
             ],
             [
              0.2222222222222222,
              "#7201a8"
             ],
             [
              0.3333333333333333,
              "#9c179e"
             ],
             [
              0.4444444444444444,
              "#bd3786"
             ],
             [
              0.5555555555555556,
              "#d8576b"
             ],
             [
              0.6666666666666666,
              "#ed7953"
             ],
             [
              0.7777777777777778,
              "#fb9f3a"
             ],
             [
              0.8888888888888888,
              "#fdca26"
             ],
             [
              1,
              "#f0f921"
             ]
            ],
            "type": "contour"
           }
          ],
          "contourcarpet": [
           {
            "colorbar": {
             "outlinewidth": 0,
             "ticks": ""
            },
            "type": "contourcarpet"
           }
          ],
          "heatmap": [
           {
            "colorbar": {
             "outlinewidth": 0,
             "ticks": ""
            },
            "colorscale": [
             [
              0,
              "#0d0887"
             ],
             [
              0.1111111111111111,
              "#46039f"
             ],
             [
              0.2222222222222222,
              "#7201a8"
             ],
             [
              0.3333333333333333,
              "#9c179e"
             ],
             [
              0.4444444444444444,
              "#bd3786"
             ],
             [
              0.5555555555555556,
              "#d8576b"
             ],
             [
              0.6666666666666666,
              "#ed7953"
             ],
             [
              0.7777777777777778,
              "#fb9f3a"
             ],
             [
              0.8888888888888888,
              "#fdca26"
             ],
             [
              1,
              "#f0f921"
             ]
            ],
            "type": "heatmap"
           }
          ],
          "histogram": [
           {
            "marker": {
             "pattern": {
              "fillmode": "overlay",
              "size": 10,
              "solidity": 0.2
             }
            },
            "type": "histogram"
           }
          ],
          "histogram2d": [
           {
            "colorbar": {
             "outlinewidth": 0,
             "ticks": ""
            },
            "colorscale": [
             [
              0,
              "#0d0887"
             ],
             [
              0.1111111111111111,
              "#46039f"
             ],
             [
              0.2222222222222222,
              "#7201a8"
             ],
             [
              0.3333333333333333,
              "#9c179e"
             ],
             [
              0.4444444444444444,
              "#bd3786"
             ],
             [
              0.5555555555555556,
              "#d8576b"
             ],
             [
              0.6666666666666666,
              "#ed7953"
             ],
             [
              0.7777777777777778,
              "#fb9f3a"
             ],
             [
              0.8888888888888888,
              "#fdca26"
             ],
             [
              1,
              "#f0f921"
             ]
            ],
            "type": "histogram2d"
           }
          ],
          "histogram2dcontour": [
           {
            "colorbar": {
             "outlinewidth": 0,
             "ticks": ""
            },
            "colorscale": [
             [
              0,
              "#0d0887"
             ],
             [
              0.1111111111111111,
              "#46039f"
             ],
             [
              0.2222222222222222,
              "#7201a8"
             ],
             [
              0.3333333333333333,
              "#9c179e"
             ],
             [
              0.4444444444444444,
              "#bd3786"
             ],
             [
              0.5555555555555556,
              "#d8576b"
             ],
             [
              0.6666666666666666,
              "#ed7953"
             ],
             [
              0.7777777777777778,
              "#fb9f3a"
             ],
             [
              0.8888888888888888,
              "#fdca26"
             ],
             [
              1,
              "#f0f921"
             ]
            ],
            "type": "histogram2dcontour"
           }
          ],
          "mesh3d": [
           {
            "colorbar": {
             "outlinewidth": 0,
             "ticks": ""
            },
            "type": "mesh3d"
           }
          ],
          "parcoords": [
           {
            "line": {
             "colorbar": {
              "outlinewidth": 0,
              "ticks": ""
             }
            },
            "type": "parcoords"
           }
          ],
          "pie": [
           {
            "automargin": true,
            "type": "pie"
           }
          ],
          "scatter": [
           {
            "fillpattern": {
             "fillmode": "overlay",
             "size": 10,
             "solidity": 0.2
            },
            "type": "scatter"
           }
          ],
          "scatter3d": [
           {
            "line": {
             "colorbar": {
              "outlinewidth": 0,
              "ticks": ""
             }
            },
            "marker": {
             "colorbar": {
              "outlinewidth": 0,
              "ticks": ""
             }
            },
            "type": "scatter3d"
           }
          ],
          "scattercarpet": [
           {
            "marker": {
             "colorbar": {
              "outlinewidth": 0,
              "ticks": ""
             }
            },
            "type": "scattercarpet"
           }
          ],
          "scattergeo": [
           {
            "marker": {
             "colorbar": {
              "outlinewidth": 0,
              "ticks": ""
             }
            },
            "type": "scattergeo"
           }
          ],
          "scattergl": [
           {
            "marker": {
             "colorbar": {
              "outlinewidth": 0,
              "ticks": ""
             }
            },
            "type": "scattergl"
           }
          ],
          "scattermap": [
           {
            "marker": {
             "colorbar": {
              "outlinewidth": 0,
              "ticks": ""
             }
            },
            "type": "scattermap"
           }
          ],
          "scattermapbox": [
           {
            "marker": {
             "colorbar": {
              "outlinewidth": 0,
              "ticks": ""
             }
            },
            "type": "scattermapbox"
           }
          ],
          "scatterpolar": [
           {
            "marker": {
             "colorbar": {
              "outlinewidth": 0,
              "ticks": ""
             }
            },
            "type": "scatterpolar"
           }
          ],
          "scatterpolargl": [
           {
            "marker": {
             "colorbar": {
              "outlinewidth": 0,
              "ticks": ""
             }
            },
            "type": "scatterpolargl"
           }
          ],
          "scatterternary": [
           {
            "marker": {
             "colorbar": {
              "outlinewidth": 0,
              "ticks": ""
             }
            },
            "type": "scatterternary"
           }
          ],
          "surface": [
           {
            "colorbar": {
             "outlinewidth": 0,
             "ticks": ""
            },
            "colorscale": [
             [
              0,
              "#0d0887"
             ],
             [
              0.1111111111111111,
              "#46039f"
             ],
             [
              0.2222222222222222,
              "#7201a8"
             ],
             [
              0.3333333333333333,
              "#9c179e"
             ],
             [
              0.4444444444444444,
              "#bd3786"
             ],
             [
              0.5555555555555556,
              "#d8576b"
             ],
             [
              0.6666666666666666,
              "#ed7953"
             ],
             [
              0.7777777777777778,
              "#fb9f3a"
             ],
             [
              0.8888888888888888,
              "#fdca26"
             ],
             [
              1,
              "#f0f921"
             ]
            ],
            "type": "surface"
           }
          ],
          "table": [
           {
            "cells": {
             "fill": {
              "color": "#EBF0F8"
             },
             "line": {
              "color": "white"
             }
            },
            "header": {
             "fill": {
              "color": "#C8D4E3"
             },
             "line": {
              "color": "white"
             }
            },
            "type": "table"
           }
          ]
         },
         "layout": {
          "annotationdefaults": {
           "arrowcolor": "#2a3f5f",
           "arrowhead": 0,
           "arrowwidth": 1
          },
          "autotypenumbers": "strict",
          "coloraxis": {
           "colorbar": {
            "outlinewidth": 0,
            "ticks": ""
           }
          },
          "colorscale": {
           "diverging": [
            [
             0,
             "#8e0152"
            ],
            [
             0.1,
             "#c51b7d"
            ],
            [
             0.2,
             "#de77ae"
            ],
            [
             0.3,
             "#f1b6da"
            ],
            [
             0.4,
             "#fde0ef"
            ],
            [
             0.5,
             "#f7f7f7"
            ],
            [
             0.6,
             "#e6f5d0"
            ],
            [
             0.7,
             "#b8e186"
            ],
            [
             0.8,
             "#7fbc41"
            ],
            [
             0.9,
             "#4d9221"
            ],
            [
             1,
             "#276419"
            ]
           ],
           "sequential": [
            [
             0,
             "#0d0887"
            ],
            [
             0.1111111111111111,
             "#46039f"
            ],
            [
             0.2222222222222222,
             "#7201a8"
            ],
            [
             0.3333333333333333,
             "#9c179e"
            ],
            [
             0.4444444444444444,
             "#bd3786"
            ],
            [
             0.5555555555555556,
             "#d8576b"
            ],
            [
             0.6666666666666666,
             "#ed7953"
            ],
            [
             0.7777777777777778,
             "#fb9f3a"
            ],
            [
             0.8888888888888888,
             "#fdca26"
            ],
            [
             1,
             "#f0f921"
            ]
           ],
           "sequentialminus": [
            [
             0,
             "#0d0887"
            ],
            [
             0.1111111111111111,
             "#46039f"
            ],
            [
             0.2222222222222222,
             "#7201a8"
            ],
            [
             0.3333333333333333,
             "#9c179e"
            ],
            [
             0.4444444444444444,
             "#bd3786"
            ],
            [
             0.5555555555555556,
             "#d8576b"
            ],
            [
             0.6666666666666666,
             "#ed7953"
            ],
            [
             0.7777777777777778,
             "#fb9f3a"
            ],
            [
             0.8888888888888888,
             "#fdca26"
            ],
            [
             1,
             "#f0f921"
            ]
           ]
          },
          "colorway": [
           "#636efa",
           "#EF553B",
           "#00cc96",
           "#ab63fa",
           "#FFA15A",
           "#19d3f3",
           "#FF6692",
           "#B6E880",
           "#FF97FF",
           "#FECB52"
          ],
          "font": {
           "color": "#2a3f5f"
          },
          "geo": {
           "bgcolor": "white",
           "lakecolor": "white",
           "landcolor": "#E5ECF6",
           "showlakes": true,
           "showland": true,
           "subunitcolor": "white"
          },
          "hoverlabel": {
           "align": "left"
          },
          "hovermode": "closest",
          "mapbox": {
           "style": "light"
          },
          "paper_bgcolor": "white",
          "plot_bgcolor": "#E5ECF6",
          "polar": {
           "angularaxis": {
            "gridcolor": "white",
            "linecolor": "white",
            "ticks": ""
           },
           "bgcolor": "#E5ECF6",
           "radialaxis": {
            "gridcolor": "white",
            "linecolor": "white",
            "ticks": ""
           }
          },
          "scene": {
           "xaxis": {
            "backgroundcolor": "#E5ECF6",
            "gridcolor": "white",
            "gridwidth": 2,
            "linecolor": "white",
            "showbackground": true,
            "ticks": "",
            "zerolinecolor": "white"
           },
           "yaxis": {
            "backgroundcolor": "#E5ECF6",
            "gridcolor": "white",
            "gridwidth": 2,
            "linecolor": "white",
            "showbackground": true,
            "ticks": "",
            "zerolinecolor": "white"
           },
           "zaxis": {
            "backgroundcolor": "#E5ECF6",
            "gridcolor": "white",
            "gridwidth": 2,
            "linecolor": "white",
            "showbackground": true,
            "ticks": "",
            "zerolinecolor": "white"
           }
          },
          "shapedefaults": {
           "line": {
            "color": "#2a3f5f"
           }
          },
          "ternary": {
           "aaxis": {
            "gridcolor": "white",
            "linecolor": "white",
            "ticks": ""
           },
           "baxis": {
            "gridcolor": "white",
            "linecolor": "white",
            "ticks": ""
           },
           "bgcolor": "#E5ECF6",
           "caxis": {
            "gridcolor": "white",
            "linecolor": "white",
            "ticks": ""
           }
          },
          "title": {
           "x": 0.05
          },
          "xaxis": {
           "automargin": true,
           "gridcolor": "white",
           "linecolor": "white",
           "ticks": "",
           "title": {
            "standoff": 15
           },
           "zerolinecolor": "white",
           "zerolinewidth": 2
          },
          "yaxis": {
           "automargin": true,
           "gridcolor": "white",
           "linecolor": "white",
           "ticks": "",
           "title": {
            "standoff": 15
           },
           "zerolinecolor": "white",
           "zerolinewidth": 2
          }
         }
        },
        "title": {
         "text": "Distribution of Product Ratings"
        },
        "xaxis": {
         "anchor": "y",
         "domain": [
          0,
          1
         ],
         "title": {
          "text": "rating"
         }
        },
        "xaxis2": {
         "anchor": "y2",
         "domain": [
          0,
          1
         ],
         "matches": "x",
         "showgrid": true,
         "showticklabels": false
        },
        "yaxis": {
         "anchor": "x",
         "domain": [
          0,
          0.8316
         ],
         "title": {
          "text": "count"
         }
        },
        "yaxis2": {
         "anchor": "x2",
         "domain": [
          0.8416,
          1
         ],
         "matches": "y2",
         "showgrid": false,
         "showline": false,
         "showticklabels": false,
         "ticks": ""
        }
       }
      }
     },
     "metadata": {},
     "output_type": "display_data"
    }
   ],
   "source": [
    "fig = px.histogram(data, x=\"rating\", nbins=10, marginal=\"box\",\n",
    "                   title=\"Distribution of Product Ratings\")\n",
    "fig.show()"
   ]
  },
  {
   "cell_type": "code",
   "execution_count": 22,
   "metadata": {},
   "outputs": [
    {
     "data": {
      "application/vnd.plotly.v1+json": {
       "config": {
        "plotlyServerURL": "https://plot.ly"
       },
       "data": [
        {
         "hovertemplate": "category_top=Computers&Accessories<br>actual_price=%{x}<br>discount_percentage=%{y}<br>rating_count=%{marker.size}<extra></extra>",
         "legendgroup": "Computers&Accessories",
         "marker": {
          "color": "#636efa",
          "size": {
           "bdata": "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",
           "dtype": "f8"
          },
          "sizemode": "area",
          "sizeref": 1067.4325,
          "symbol": "circle"
         },
         "mode": "markers",
         "name": "Computers&Accessories",
         "showlegend": true,
         "type": "scattergl",
         "x": {
          "bdata": "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",
          "dtype": "f8"
         },
         "xaxis": "x",
         "y": {
          "bdata": "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",
          "dtype": "f8"
         },
         "yaxis": "y"
        },
        {
         "hovertemplate": "category_top=Electronics<br>actual_price=%{x}<br>discount_percentage=%{y}<br>rating_count=%{marker.size}<extra></extra>",
         "legendgroup": "Electronics",
         "marker": {
          "color": "#EF553B",
          "size": {
           "bdata": "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",
           "dtype": "f8"
          },
          "sizemode": "area",
          "sizeref": 1067.4325,
          "symbol": "circle"
         },
         "mode": "markers",
         "name": "Electronics",
         "showlegend": true,
         "type": "scattergl",
         "x": {
          "bdata": "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",
          "dtype": "f8"
         },
         "xaxis": "x",
         "y": {
          "bdata": "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",
          "dtype": "f8"
         },
         "yaxis": "y"
        },
        {
         "hovertemplate": "category_top=MusicalInstruments<br>actual_price=%{x}<br>discount_percentage=%{y}<br>rating_count=%{marker.size}<extra></extra>",
         "legendgroup": "MusicalInstruments",
         "marker": {
          "color": "#00cc96",
          "size": {
           "bdata": "AAAAAIDD8EAAAAAAgL7TQA==",
           "dtype": "f8"
          },
          "sizemode": "area",
          "sizeref": 1067.4325,
          "symbol": "circle"
         },
         "mode": "markers",
         "name": "MusicalInstruments",
         "showlegend": true,
         "type": "scattergl",
         "x": {
          "bdata": "AAAAAAAsn0AAAAAAANiFQA==",
          "dtype": "f8"
         },
         "xaxis": "x",
         "y": {
          "bdata": "AAAAAAAATkAAAAAAAABAQA==",
          "dtype": "f8"
         },
         "yaxis": "y"
        },
        {
         "hovertemplate": "category_top=OfficeProducts<br>actual_price=%{x}<br>discount_percentage=%{y}<br>rating_count=%{marker.size}<extra></extra>",
         "legendgroup": "OfficeProducts",
         "marker": {
          "color": "#ab63fa",
          "size": {
           "bdata": "AAAAAACgtkAAAAAAAIC2QAAAAACAycdAAAAAAADVwEAAAAAAAEDCQAAAAAAAiblAAAAAAADRwEAAAAAAAC6oQAAAAAAAkq1AAAAAAABXtkAAAAAAAHW/QAAAAAAA3KhAAAAAAABAeEAAAAAAANSTQAAAAAAABb1AAAAAAAB1wUAAAAAAANSwQAAAAAAAJKNAAAAAAABMsUAAAAAAAOqnQAAAAAAAiKRAAAAAAADMrEAAAAAAAJSrQAAAAAAAMHpAAAAAAABKsUAAAAAAAHqjQAAAAAAAKJpAAAAAAAA3uEAAAAAAAFezQAAAAAAAGJ5AAAAAAAC+skA=",
           "dtype": "f8"
          },
          "sizemode": "area",
          "sizeref": 1067.4325,
          "symbol": "circle"
         },
         "mode": "markers",
         "name": "OfficeProducts",
         "showlegend": true,
         "type": "scattergl",
         "x": {
          "bdata": "AAAAAAAASUAAAAAAADyUQAAAAAAAMIFAAAAAAAAAZEAAAAAAAACJQAAAAAAAAGRAAAAAAACAe0AAAAAAAABZQAAAAAAAsHNAAAAAAADAgkAAAAAAAIBmQAAAAAAAgIZAAAAAAADAWEAAAAAAAMBSQAAAAAAA4GVAAAAAAAAAXkAAAAAAAABeQAAAAAAAQGpAAAAAAAAAZEAAAAAAAABZQAAAAAAAQG9AAAAAAAAAdEAAAAAAAG6nQAAAAAAAwHJAAAAAAAC4gEAAAAAAACB8QAAAAAAAoGRAAAAAAAAAWUAAAAAAAABeQAAAAAAAQHpAAAAAAAAgbEA=",
          "dtype": "f8"
         },
         "xaxis": "x",
         "y": {
          "bdata": "AAAAAAAAAAAAAAAAAAAAAAAAAAAAABRAAAAAAAAAAEAAAAAAAMBSQAAAAAAAACxAAAAAAAAAAAAAAAAAAAAAAAAAAAAAADRAAAAAAAAANEAAAAAAAAA/QAAAAAAAADZAAAAAAAAAAAAAAAAAAAAmQAAAAAAAgEhAAAAAAAAAFEAAAAAAAAAAAAAAAAAAAC5AAAAAAAAAAEAAAAAAAAAkQAAAAAAAAAAAAAAAAAAALkAAAAAAAIBKQAAAAAAAAAAAAAAAAAAAAAAAAAAAAAA4QAAAAAAAAAAAAAAAAAAAJEAAAAAAAAAAAAAAAAAAAAAAAAAAAAAAAAA=",
          "dtype": "f8"
         },
         "yaxis": "y"
        },
        {
         "hovertemplate": "category_top=Home&Kitchen<br>actual_price=%{x}<br>discount_percentage=%{y}<br>rating_count=%{marker.size}<extra></extra>",
         "legendgroup": "Home&Kitchen",
         "marker": {
          "color": "#FFA15A",
          "size": {
           "bdata": "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",
           "dtype": "f8"
          },
          "sizemode": "area",
          "sizeref": 1067.4325,
          "symbol": "circle"
         },
         "mode": "markers",
         "name": "Home&Kitchen",
         "showlegend": true,
         "type": "scattergl",
         "x": {
          "bdata": "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",
          "dtype": "f8"
         },
         "xaxis": "x",
         "y": {
          "bdata": "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",
          "dtype": "f8"
         },
         "yaxis": "y"
        },
        {
         "hovertemplate": "category_top=HomeImprovement<br>actual_price=%{x}<br>discount_percentage=%{y}<br>rating_count=%{marker.size}<extra></extra>",
         "legendgroup": "HomeImprovement",
         "marker": {
          "color": "#19d3f3",
          "size": {
           "bdata": "AAAAAAAqpEAAAAAAAGG3QA==",
           "dtype": "f8"
          },
          "sizemode": "area",
          "sizeref": 1067.4325,
          "symbol": "circle"
         },
         "mode": "markers",
         "name": "HomeImprovement",
         "showlegend": true,
         "type": "scattergl",
         "x": {
          "bdata": "AAAAAAA4j0AAAAAAALiCQA==",
          "dtype": "f8"
         },
         "xaxis": "x",
         "y": {
          "bdata": "AAAAAACATEAAAAAAAABNQA==",
          "dtype": "f8"
         },
         "yaxis": "y"
        },
        {
         "hovertemplate": "category_top=Toys&Games<br>actual_price=%{x}<br>discount_percentage=%{y}<br>rating_count=%{marker.size}<extra></extra>",
         "legendgroup": "Toys&Games",
         "marker": {
          "color": "#FF6692",
          "size": {
           "bdata": "AAAAAID9zkA=",
           "dtype": "f8"
          },
          "sizemode": "area",
          "sizeref": 1067.4325,
          "symbol": "circle"
         },
         "mode": "markers",
         "name": "Toys&Games",
         "showlegend": true,
         "type": "scattergl",
         "x": {
          "bdata": "AAAAAADAYkA=",
          "dtype": "f8"
         },
         "xaxis": "x",
         "y": {
          "bdata": "AAAAAAAAAAA=",
          "dtype": "f8"
         },
         "yaxis": "y"
        },
        {
         "hovertemplate": "category_top=Car&Motorbike<br>actual_price=%{x}<br>discount_percentage=%{y}<br>rating_count=%{marker.size}<extra></extra>",
         "legendgroup": "Car&Motorbike",
         "marker": {
          "color": "#B6E880",
          "size": {
           "bdata": "AAAAAAB4kUA=",
           "dtype": "f8"
          },
          "sizemode": "area",
          "sizeref": 1067.4325,
          "symbol": "circle"
         },
         "mode": "markers",
         "name": "Car&Motorbike",
         "showlegend": true,
         "type": "scattergl",
         "x": {
          "bdata": "AAAAAABAr0A=",
          "dtype": "f8"
         },
         "xaxis": "x",
         "y": {
          "bdata": "AAAAAAAARUA=",
          "dtype": "f8"
         },
         "yaxis": "y"
        },
        {
         "hovertemplate": "category_top=Health&PersonalCare<br>actual_price=%{x}<br>discount_percentage=%{y}<br>rating_count=%{marker.size}<extra></extra>",
         "legendgroup": "Health&PersonalCare",
         "marker": {
          "color": "#FF97FF",
          "size": {
           "bdata": "AAAAAACerEA=",
           "dtype": "f8"
          },
          "sizemode": "area",
          "sizeref": 1067.4325,
          "symbol": "circle"
         },
         "mode": "markers",
         "name": "Health&PersonalCare",
         "showlegend": true,
         "type": "scattergl",
         "x": {
          "bdata": "AAAAAACwnUA=",
          "dtype": "f8"
         },
         "xaxis": "x",
         "y": {
          "bdata": "AAAAAACASkA=",
          "dtype": "f8"
         },
         "yaxis": "y"
        }
       ],
       "layout": {
        "height": 485,
        "legend": {
         "itemsizing": "constant",
         "title": {
          "text": "category_top"
         },
         "tracegroupgap": 0
        },
        "margin": {
         "b": 100,
         "l": 100,
         "r": 100,
         "t": 100
        },
        "template": {
         "data": {
          "bar": [
           {
            "error_x": {
             "color": "#2a3f5f"
            },
            "error_y": {
             "color": "#2a3f5f"
            },
            "marker": {
             "line": {
              "color": "#E5ECF6",
              "width": 0.5
             },
             "pattern": {
              "fillmode": "overlay",
              "size": 10,
              "solidity": 0.2
             }
            },
            "type": "bar"
           }
          ],
          "barpolar": [
           {
            "marker": {
             "line": {
              "color": "#E5ECF6",
              "width": 0.5
             },
             "pattern": {
              "fillmode": "overlay",
              "size": 10,
              "solidity": 0.2
             }
            },
            "type": "barpolar"
           }
          ],
          "carpet": [
           {
            "aaxis": {
             "endlinecolor": "#2a3f5f",
             "gridcolor": "white",
             "linecolor": "white",
             "minorgridcolor": "white",
             "startlinecolor": "#2a3f5f"
            },
            "baxis": {
             "endlinecolor": "#2a3f5f",
             "gridcolor": "white",
             "linecolor": "white",
             "minorgridcolor": "white",
             "startlinecolor": "#2a3f5f"
            },
            "type": "carpet"
           }
          ],
          "choropleth": [
           {
            "colorbar": {
             "outlinewidth": 0,
             "ticks": ""
            },
            "type": "choropleth"
           }
          ],
          "contour": [
           {
            "colorbar": {
             "outlinewidth": 0,
             "ticks": ""
            },
            "colorscale": [
             [
              0,
              "#0d0887"
             ],
             [
              0.1111111111111111,
              "#46039f"
             ],
             [
              0.2222222222222222,
              "#7201a8"
             ],
             [
              0.3333333333333333,
              "#9c179e"
             ],
             [
              0.4444444444444444,
              "#bd3786"
             ],
             [
              0.5555555555555556,
              "#d8576b"
             ],
             [
              0.6666666666666666,
              "#ed7953"
             ],
             [
              0.7777777777777778,
              "#fb9f3a"
             ],
             [
              0.8888888888888888,
              "#fdca26"
             ],
             [
              1,
              "#f0f921"
             ]
            ],
            "type": "contour"
           }
          ],
          "contourcarpet": [
           {
            "colorbar": {
             "outlinewidth": 0,
             "ticks": ""
            },
            "type": "contourcarpet"
           }
          ],
          "heatmap": [
           {
            "colorbar": {
             "outlinewidth": 0,
             "ticks": ""
            },
            "colorscale": [
             [
              0,
              "#0d0887"
             ],
             [
              0.1111111111111111,
              "#46039f"
             ],
             [
              0.2222222222222222,
              "#7201a8"
             ],
             [
              0.3333333333333333,
              "#9c179e"
             ],
             [
              0.4444444444444444,
              "#bd3786"
             ],
             [
              0.5555555555555556,
              "#d8576b"
             ],
             [
              0.6666666666666666,
              "#ed7953"
             ],
             [
              0.7777777777777778,
              "#fb9f3a"
             ],
             [
              0.8888888888888888,
              "#fdca26"
             ],
             [
              1,
              "#f0f921"
             ]
            ],
            "type": "heatmap"
           }
          ],
          "histogram": [
           {
            "marker": {
             "pattern": {
              "fillmode": "overlay",
              "size": 10,
              "solidity": 0.2
             }
            },
            "type": "histogram"
           }
          ],
          "histogram2d": [
           {
            "colorbar": {
             "outlinewidth": 0,
             "ticks": ""
            },
            "colorscale": [
             [
              0,
              "#0d0887"
             ],
             [
              0.1111111111111111,
              "#46039f"
             ],
             [
              0.2222222222222222,
              "#7201a8"
             ],
             [
              0.3333333333333333,
              "#9c179e"
             ],
             [
              0.4444444444444444,
              "#bd3786"
             ],
             [
              0.5555555555555556,
              "#d8576b"
             ],
             [
              0.6666666666666666,
              "#ed7953"
             ],
             [
              0.7777777777777778,
              "#fb9f3a"
             ],
             [
              0.8888888888888888,
              "#fdca26"
             ],
             [
              1,
              "#f0f921"
             ]
            ],
            "type": "histogram2d"
           }
          ],
          "histogram2dcontour": [
           {
            "colorbar": {
             "outlinewidth": 0,
             "ticks": ""
            },
            "colorscale": [
             [
              0,
              "#0d0887"
             ],
             [
              0.1111111111111111,
              "#46039f"
             ],
             [
              0.2222222222222222,
              "#7201a8"
             ],
             [
              0.3333333333333333,
              "#9c179e"
             ],
             [
              0.4444444444444444,
              "#bd3786"
             ],
             [
              0.5555555555555556,
              "#d8576b"
             ],
             [
              0.6666666666666666,
              "#ed7953"
             ],
             [
              0.7777777777777778,
              "#fb9f3a"
             ],
             [
              0.8888888888888888,
              "#fdca26"
             ],
             [
              1,
              "#f0f921"
             ]
            ],
            "type": "histogram2dcontour"
           }
          ],
          "mesh3d": [
           {
            "colorbar": {
             "outlinewidth": 0,
             "ticks": ""
            },
            "type": "mesh3d"
           }
          ],
          "parcoords": [
           {
            "line": {
             "colorbar": {
              "outlinewidth": 0,
              "ticks": ""
             }
            },
            "type": "parcoords"
           }
          ],
          "pie": [
           {
            "automargin": true,
            "type": "pie"
           }
          ],
          "scatter": [
           {
            "fillpattern": {
             "fillmode": "overlay",
             "size": 10,
             "solidity": 0.2
            },
            "type": "scatter"
           }
          ],
          "scatter3d": [
           {
            "line": {
             "colorbar": {
              "outlinewidth": 0,
              "ticks": ""
             }
            },
            "marker": {
             "colorbar": {
              "outlinewidth": 0,
              "ticks": ""
             }
            },
            "type": "scatter3d"
           }
          ],
          "scattercarpet": [
           {
            "marker": {
             "colorbar": {
              "outlinewidth": 0,
              "ticks": ""
             }
            },
            "type": "scattercarpet"
           }
          ],
          "scattergeo": [
           {
            "marker": {
             "colorbar": {
              "outlinewidth": 0,
              "ticks": ""
             }
            },
            "type": "scattergeo"
           }
          ],
          "scattergl": [
           {
            "marker": {
             "colorbar": {
              "outlinewidth": 0,
              "ticks": ""
             }
            },
            "type": "scattergl"
           }
          ],
          "scattermap": [
           {
            "marker": {
             "colorbar": {
              "outlinewidth": 0,
              "ticks": ""
             }
            },
            "type": "scattermap"
           }
          ],
          "scattermapbox": [
           {
            "marker": {
             "colorbar": {
              "outlinewidth": 0,
              "ticks": ""
             }
            },
            "type": "scattermapbox"
           }
          ],
          "scatterpolar": [
           {
            "marker": {
             "colorbar": {
              "outlinewidth": 0,
              "ticks": ""
             }
            },
            "type": "scatterpolar"
           }
          ],
          "scatterpolargl": [
           {
            "marker": {
             "colorbar": {
              "outlinewidth": 0,
              "ticks": ""
             }
            },
            "type": "scatterpolargl"
           }
          ],
          "scatterternary": [
           {
            "marker": {
             "colorbar": {
              "outlinewidth": 0,
              "ticks": ""
             }
            },
            "type": "scatterternary"
           }
          ],
          "surface": [
           {
            "colorbar": {
             "outlinewidth": 0,
             "ticks": ""
            },
            "colorscale": [
             [
              0,
              "#0d0887"
             ],
             [
              0.1111111111111111,
              "#46039f"
             ],
             [
              0.2222222222222222,
              "#7201a8"
             ],
             [
              0.3333333333333333,
              "#9c179e"
             ],
             [
              0.4444444444444444,
              "#bd3786"
             ],
             [
              0.5555555555555556,
              "#d8576b"
             ],
             [
              0.6666666666666666,
              "#ed7953"
             ],
             [
              0.7777777777777778,
              "#fb9f3a"
             ],
             [
              0.8888888888888888,
              "#fdca26"
             ],
             [
              1,
              "#f0f921"
             ]
            ],
            "type": "surface"
           }
          ],
          "table": [
           {
            "cells": {
             "fill": {
              "color": "#EBF0F8"
             },
             "line": {
              "color": "white"
             }
            },
            "header": {
             "fill": {
              "color": "#C8D4E3"
             },
             "line": {
              "color": "white"
             }
            },
            "type": "table"
           }
          ]
         },
         "layout": {
          "annotationdefaults": {
           "arrowcolor": "#2a3f5f",
           "arrowhead": 0,
           "arrowwidth": 1
          },
          "autotypenumbers": "strict",
          "coloraxis": {
           "colorbar": {
            "outlinewidth": 0,
            "ticks": ""
           }
          },
          "colorscale": {
           "diverging": [
            [
             0,
             "#8e0152"
            ],
            [
             0.1,
             "#c51b7d"
            ],
            [
             0.2,
             "#de77ae"
            ],
            [
             0.3,
             "#f1b6da"
            ],
            [
             0.4,
             "#fde0ef"
            ],
            [
             0.5,
             "#f7f7f7"
            ],
            [
             0.6,
             "#e6f5d0"
            ],
            [
             0.7,
             "#b8e186"
            ],
            [
             0.8,
             "#7fbc41"
            ],
            [
             0.9,
             "#4d9221"
            ],
            [
             1,
             "#276419"
            ]
           ],
           "sequential": [
            [
             0,
             "#0d0887"
            ],
            [
             0.1111111111111111,
             "#46039f"
            ],
            [
             0.2222222222222222,
             "#7201a8"
            ],
            [
             0.3333333333333333,
             "#9c179e"
            ],
            [
             0.4444444444444444,
             "#bd3786"
            ],
            [
             0.5555555555555556,
             "#d8576b"
            ],
            [
             0.6666666666666666,
             "#ed7953"
            ],
            [
             0.7777777777777778,
             "#fb9f3a"
            ],
            [
             0.8888888888888888,
             "#fdca26"
            ],
            [
             1,
             "#f0f921"
            ]
           ],
           "sequentialminus": [
            [
             0,
             "#0d0887"
            ],
            [
             0.1111111111111111,
             "#46039f"
            ],
            [
             0.2222222222222222,
             "#7201a8"
            ],
            [
             0.3333333333333333,
             "#9c179e"
            ],
            [
             0.4444444444444444,
             "#bd3786"
            ],
            [
             0.5555555555555556,
             "#d8576b"
            ],
            [
             0.6666666666666666,
             "#ed7953"
            ],
            [
             0.7777777777777778,
             "#fb9f3a"
            ],
            [
             0.8888888888888888,
             "#fdca26"
            ],
            [
             1,
             "#f0f921"
            ]
           ]
          },
          "colorway": [
           "#636efa",
           "#EF553B",
           "#00cc96",
           "#ab63fa",
           "#FFA15A",
           "#19d3f3",
           "#FF6692",
           "#B6E880",
           "#FF97FF",
           "#FECB52"
          ],
          "font": {
           "color": "#2a3f5f"
          },
          "geo": {
           "bgcolor": "white",
           "lakecolor": "white",
           "landcolor": "#E5ECF6",
           "showlakes": true,
           "showland": true,
           "subunitcolor": "white"
          },
          "hoverlabel": {
           "align": "left"
          },
          "hovermode": "closest",
          "mapbox": {
           "style": "light"
          },
          "paper_bgcolor": "white",
          "plot_bgcolor": "#E5ECF6",
          "polar": {
           "angularaxis": {
            "gridcolor": "white",
            "linecolor": "white",
            "ticks": ""
           },
           "bgcolor": "#E5ECF6",
           "radialaxis": {
            "gridcolor": "white",
            "linecolor": "white",
            "ticks": ""
           }
          },
          "scene": {
           "xaxis": {
            "backgroundcolor": "#E5ECF6",
            "gridcolor": "white",
            "gridwidth": 2,
            "linecolor": "white",
            "showbackground": true,
            "ticks": "",
            "zerolinecolor": "white"
           },
           "yaxis": {
            "backgroundcolor": "#E5ECF6",
            "gridcolor": "white",
            "gridwidth": 2,
            "linecolor": "white",
            "showbackground": true,
            "ticks": "",
            "zerolinecolor": "white"
           },
           "zaxis": {
            "backgroundcolor": "#E5ECF6",
            "gridcolor": "white",
            "gridwidth": 2,
            "linecolor": "white",
            "showbackground": true,
            "ticks": "",
            "zerolinecolor": "white"
           }
          },
          "shapedefaults": {
           "line": {
            "color": "#2a3f5f"
           }
          },
          "ternary": {
           "aaxis": {
            "gridcolor": "white",
            "linecolor": "white",
            "ticks": ""
           },
           "baxis": {
            "gridcolor": "white",
            "linecolor": "white",
            "ticks": ""
           },
           "bgcolor": "#E5ECF6",
           "caxis": {
            "gridcolor": "white",
            "linecolor": "white",
            "ticks": ""
           }
          },
          "title": {
           "x": 0.05
          },
          "xaxis": {
           "automargin": true,
           "gridcolor": "white",
           "linecolor": "white",
           "ticks": "",
           "title": {
            "standoff": 15
           },
           "zerolinecolor": "white",
           "zerolinewidth": 2
          },
          "yaxis": {
           "automargin": true,
           "gridcolor": "white",
           "linecolor": "white",
           "ticks": "",
           "title": {
            "standoff": 15
           },
           "zerolinecolor": "white",
           "zerolinewidth": 2
          }
         }
        },
        "title": {
         "text": "Price vs Discount Percentage"
        },
        "xaxis": {
         "anchor": "y",
         "domain": [
          0,
          1
         ],
         "title": {
          "text": "actual_price"
         }
        },
        "yaxis": {
         "anchor": "x",
         "domain": [
          0,
          1
         ],
         "title": {
          "text": "discount_percentage"
         }
        }
       }
      }
     },
     "metadata": {},
     "output_type": "display_data"
    }
   ],
   "source": [
    "fig = px.scatter(data, x=\"actual_price\", y=\"discount_percentage\", color=\"category_top\", \n",
    "                 size=\"rating_count\", title=\"Price vs Discount Percentage\")\n",
    "fig.update_layout(margin=dict(l=100, r=100, b=100, t=100), height=485)\n",
    "fig.show()"
   ]
  },
  {
   "cell_type": "code",
   "execution_count": 26,
   "metadata": {},
   "outputs": [
    {
     "data": {
      "application/vnd.plotly.v1+json": {
       "config": {
        "plotlyServerURL": "https://plot.ly"
       },
       "data": [
        {
         "coloraxis": "coloraxis",
         "hovertemplate": "x: %{x}<br>y: %{y}<br>color: %{z}<extra></extra>",
         "name": "0",
         "texttemplate": "%{z}",
         "type": "heatmap",
         "x": [
          "discounted_price",
          "actual_price",
          "rating",
          "rating_count"
         ],
         "xaxis": "x",
         "y": [
          "discounted_price",
          "actual_price",
          "rating",
          "rating_count"
         ],
         "yaxis": "y",
         "z": {
          "bdata": "AAAAAAAA8D8AAAAAAADwP5qZmZmZmbk/AAAAAAAAAIAAAAAAAADwPwAAAAAAAPA/mpmZmZmZuT8AAAAAAAAAgJqZmZmZmbk/mpmZmZmZuT8AAAAAAADwP5qZmZmZmbk/AAAAAAAAAIAAAAAAAAAAgJqZmZmZmbk/AAAAAAAA8D8=",
          "dtype": "f8",
          "shape": "4, 4"
         }
        }
       ],
       "layout": {
        "coloraxis": {
         "colorscale": [
          [
           0,
           "#0d0887"
          ],
          [
           0.1111111111111111,
           "#46039f"
          ],
          [
           0.2222222222222222,
           "#7201a8"
          ],
          [
           0.3333333333333333,
           "#9c179e"
          ],
          [
           0.4444444444444444,
           "#bd3786"
          ],
          [
           0.5555555555555556,
           "#d8576b"
          ],
          [
           0.6666666666666666,
           "#ed7953"
          ],
          [
           0.7777777777777778,
           "#fb9f3a"
          ],
          [
           0.8888888888888888,
           "#fdca26"
          ],
          [
           1,
           "#f0f921"
          ]
         ]
        },
        "template": {
         "data": {
          "bar": [
           {
            "error_x": {
             "color": "#2a3f5f"
            },
            "error_y": {
             "color": "#2a3f5f"
            },
            "marker": {
             "line": {
              "color": "#E5ECF6",
              "width": 0.5
             },
             "pattern": {
              "fillmode": "overlay",
              "size": 10,
              "solidity": 0.2
             }
            },
            "type": "bar"
           }
          ],
          "barpolar": [
           {
            "marker": {
             "line": {
              "color": "#E5ECF6",
              "width": 0.5
             },
             "pattern": {
              "fillmode": "overlay",
              "size": 10,
              "solidity": 0.2
             }
            },
            "type": "barpolar"
           }
          ],
          "carpet": [
           {
            "aaxis": {
             "endlinecolor": "#2a3f5f",
             "gridcolor": "white",
             "linecolor": "white",
             "minorgridcolor": "white",
             "startlinecolor": "#2a3f5f"
            },
            "baxis": {
             "endlinecolor": "#2a3f5f",
             "gridcolor": "white",
             "linecolor": "white",
             "minorgridcolor": "white",
             "startlinecolor": "#2a3f5f"
            },
            "type": "carpet"
           }
          ],
          "choropleth": [
           {
            "colorbar": {
             "outlinewidth": 0,
             "ticks": ""
            },
            "type": "choropleth"
           }
          ],
          "contour": [
           {
            "colorbar": {
             "outlinewidth": 0,
             "ticks": ""
            },
            "colorscale": [
             [
              0,
              "#0d0887"
             ],
             [
              0.1111111111111111,
              "#46039f"
             ],
             [
              0.2222222222222222,
              "#7201a8"
             ],
             [
              0.3333333333333333,
              "#9c179e"
             ],
             [
              0.4444444444444444,
              "#bd3786"
             ],
             [
              0.5555555555555556,
              "#d8576b"
             ],
             [
              0.6666666666666666,
              "#ed7953"
             ],
             [
              0.7777777777777778,
              "#fb9f3a"
             ],
             [
              0.8888888888888888,
              "#fdca26"
             ],
             [
              1,
              "#f0f921"
             ]
            ],
            "type": "contour"
           }
          ],
          "contourcarpet": [
           {
            "colorbar": {
             "outlinewidth": 0,
             "ticks": ""
            },
            "type": "contourcarpet"
           }
          ],
          "heatmap": [
           {
            "colorbar": {
             "outlinewidth": 0,
             "ticks": ""
            },
            "colorscale": [
             [
              0,
              "#0d0887"
             ],
             [
              0.1111111111111111,
              "#46039f"
             ],
             [
              0.2222222222222222,
              "#7201a8"
             ],
             [
              0.3333333333333333,
              "#9c179e"
             ],
             [
              0.4444444444444444,
              "#bd3786"
             ],
             [
              0.5555555555555556,
              "#d8576b"
             ],
             [
              0.6666666666666666,
              "#ed7953"
             ],
             [
              0.7777777777777778,
              "#fb9f3a"
             ],
             [
              0.8888888888888888,
              "#fdca26"
             ],
             [
              1,
              "#f0f921"
             ]
            ],
            "type": "heatmap"
           }
          ],
          "histogram": [
           {
            "marker": {
             "pattern": {
              "fillmode": "overlay",
              "size": 10,
              "solidity": 0.2
             }
            },
            "type": "histogram"
           }
          ],
          "histogram2d": [
           {
            "colorbar": {
             "outlinewidth": 0,
             "ticks": ""
            },
            "colorscale": [
             [
              0,
              "#0d0887"
             ],
             [
              0.1111111111111111,
              "#46039f"
             ],
             [
              0.2222222222222222,
              "#7201a8"
             ],
             [
              0.3333333333333333,
              "#9c179e"
             ],
             [
              0.4444444444444444,
              "#bd3786"
             ],
             [
              0.5555555555555556,
              "#d8576b"
             ],
             [
              0.6666666666666666,
              "#ed7953"
             ],
             [
              0.7777777777777778,
              "#fb9f3a"
             ],
             [
              0.8888888888888888,
              "#fdca26"
             ],
             [
              1,
              "#f0f921"
             ]
            ],
            "type": "histogram2d"
           }
          ],
          "histogram2dcontour": [
           {
            "colorbar": {
             "outlinewidth": 0,
             "ticks": ""
            },
            "colorscale": [
             [
              0,
              "#0d0887"
             ],
             [
              0.1111111111111111,
              "#46039f"
             ],
             [
              0.2222222222222222,
              "#7201a8"
             ],
             [
              0.3333333333333333,
              "#9c179e"
             ],
             [
              0.4444444444444444,
              "#bd3786"
             ],
             [
              0.5555555555555556,
              "#d8576b"
             ],
             [
              0.6666666666666666,
              "#ed7953"
             ],
             [
              0.7777777777777778,
              "#fb9f3a"
             ],
             [
              0.8888888888888888,
              "#fdca26"
             ],
             [
              1,
              "#f0f921"
             ]
            ],
            "type": "histogram2dcontour"
           }
          ],
          "mesh3d": [
           {
            "colorbar": {
             "outlinewidth": 0,
             "ticks": ""
            },
            "type": "mesh3d"
           }
          ],
          "parcoords": [
           {
            "line": {
             "colorbar": {
              "outlinewidth": 0,
              "ticks": ""
             }
            },
            "type": "parcoords"
           }
          ],
          "pie": [
           {
            "automargin": true,
            "type": "pie"
           }
          ],
          "scatter": [
           {
            "fillpattern": {
             "fillmode": "overlay",
             "size": 10,
             "solidity": 0.2
            },
            "type": "scatter"
           }
          ],
          "scatter3d": [
           {
            "line": {
             "colorbar": {
              "outlinewidth": 0,
              "ticks": ""
             }
            },
            "marker": {
             "colorbar": {
              "outlinewidth": 0,
              "ticks": ""
             }
            },
            "type": "scatter3d"
           }
          ],
          "scattercarpet": [
           {
            "marker": {
             "colorbar": {
              "outlinewidth": 0,
              "ticks": ""
             }
            },
            "type": "scattercarpet"
           }
          ],
          "scattergeo": [
           {
            "marker": {
             "colorbar": {
              "outlinewidth": 0,
              "ticks": ""
             }
            },
            "type": "scattergeo"
           }
          ],
          "scattergl": [
           {
            "marker": {
             "colorbar": {
              "outlinewidth": 0,
              "ticks": ""
             }
            },
            "type": "scattergl"
           }
          ],
          "scattermap": [
           {
            "marker": {
             "colorbar": {
              "outlinewidth": 0,
              "ticks": ""
             }
            },
            "type": "scattermap"
           }
          ],
          "scattermapbox": [
           {
            "marker": {
             "colorbar": {
              "outlinewidth": 0,
              "ticks": ""
             }
            },
            "type": "scattermapbox"
           }
          ],
          "scatterpolar": [
           {
            "marker": {
             "colorbar": {
              "outlinewidth": 0,
              "ticks": ""
             }
            },
            "type": "scatterpolar"
           }
          ],
          "scatterpolargl": [
           {
            "marker": {
             "colorbar": {
              "outlinewidth": 0,
              "ticks": ""
             }
            },
            "type": "scatterpolargl"
           }
          ],
          "scatterternary": [
           {
            "marker": {
             "colorbar": {
              "outlinewidth": 0,
              "ticks": ""
             }
            },
            "type": "scatterternary"
           }
          ],
          "surface": [
           {
            "colorbar": {
             "outlinewidth": 0,
             "ticks": ""
            },
            "colorscale": [
             [
              0,
              "#0d0887"
             ],
             [
              0.1111111111111111,
              "#46039f"
             ],
             [
              0.2222222222222222,
              "#7201a8"
             ],
             [
              0.3333333333333333,
              "#9c179e"
             ],
             [
              0.4444444444444444,
              "#bd3786"
             ],
             [
              0.5555555555555556,
              "#d8576b"
             ],
             [
              0.6666666666666666,
              "#ed7953"
             ],
             [
              0.7777777777777778,
              "#fb9f3a"
             ],
             [
              0.8888888888888888,
              "#fdca26"
             ],
             [
              1,
              "#f0f921"
             ]
            ],
            "type": "surface"
           }
          ],
          "table": [
           {
            "cells": {
             "fill": {
              "color": "#EBF0F8"
             },
             "line": {
              "color": "white"
             }
            },
            "header": {
             "fill": {
              "color": "#C8D4E3"
             },
             "line": {
              "color": "white"
             }
            },
            "type": "table"
           }
          ]
         },
         "layout": {
          "annotationdefaults": {
           "arrowcolor": "#2a3f5f",
           "arrowhead": 0,
           "arrowwidth": 1
          },
          "autotypenumbers": "strict",
          "coloraxis": {
           "colorbar": {
            "outlinewidth": 0,
            "ticks": ""
           }
          },
          "colorscale": {
           "diverging": [
            [
             0,
             "#8e0152"
            ],
            [
             0.1,
             "#c51b7d"
            ],
            [
             0.2,
             "#de77ae"
            ],
            [
             0.3,
             "#f1b6da"
            ],
            [
             0.4,
             "#fde0ef"
            ],
            [
             0.5,
             "#f7f7f7"
            ],
            [
             0.6,
             "#e6f5d0"
            ],
            [
             0.7,
             "#b8e186"
            ],
            [
             0.8,
             "#7fbc41"
            ],
            [
             0.9,
             "#4d9221"
            ],
            [
             1,
             "#276419"
            ]
           ],
           "sequential": [
            [
             0,
             "#0d0887"
            ],
            [
             0.1111111111111111,
             "#46039f"
            ],
            [
             0.2222222222222222,
             "#7201a8"
            ],
            [
             0.3333333333333333,
             "#9c179e"
            ],
            [
             0.4444444444444444,
             "#bd3786"
            ],
            [
             0.5555555555555556,
             "#d8576b"
            ],
            [
             0.6666666666666666,
             "#ed7953"
            ],
            [
             0.7777777777777778,
             "#fb9f3a"
            ],
            [
             0.8888888888888888,
             "#fdca26"
            ],
            [
             1,
             "#f0f921"
            ]
           ],
           "sequentialminus": [
            [
             0,
             "#0d0887"
            ],
            [
             0.1111111111111111,
             "#46039f"
            ],
            [
             0.2222222222222222,
             "#7201a8"
            ],
            [
             0.3333333333333333,
             "#9c179e"
            ],
            [
             0.4444444444444444,
             "#bd3786"
            ],
            [
             0.5555555555555556,
             "#d8576b"
            ],
            [
             0.6666666666666666,
             "#ed7953"
            ],
            [
             0.7777777777777778,
             "#fb9f3a"
            ],
            [
             0.8888888888888888,
             "#fdca26"
            ],
            [
             1,
             "#f0f921"
            ]
           ]
          },
          "colorway": [
           "#636efa",
           "#EF553B",
           "#00cc96",
           "#ab63fa",
           "#FFA15A",
           "#19d3f3",
           "#FF6692",
           "#B6E880",
           "#FF97FF",
           "#FECB52"
          ],
          "font": {
           "color": "#2a3f5f"
          },
          "geo": {
           "bgcolor": "white",
           "lakecolor": "white",
           "landcolor": "#E5ECF6",
           "showlakes": true,
           "showland": true,
           "subunitcolor": "white"
          },
          "hoverlabel": {
           "align": "left"
          },
          "hovermode": "closest",
          "mapbox": {
           "style": "light"
          },
          "paper_bgcolor": "white",
          "plot_bgcolor": "#E5ECF6",
          "polar": {
           "angularaxis": {
            "gridcolor": "white",
            "linecolor": "white",
            "ticks": ""
           },
           "bgcolor": "#E5ECF6",
           "radialaxis": {
            "gridcolor": "white",
            "linecolor": "white",
            "ticks": ""
           }
          },
          "scene": {
           "xaxis": {
            "backgroundcolor": "#E5ECF6",
            "gridcolor": "white",
            "gridwidth": 2,
            "linecolor": "white",
            "showbackground": true,
            "ticks": "",
            "zerolinecolor": "white"
           },
           "yaxis": {
            "backgroundcolor": "#E5ECF6",
            "gridcolor": "white",
            "gridwidth": 2,
            "linecolor": "white",
            "showbackground": true,
            "ticks": "",
            "zerolinecolor": "white"
           },
           "zaxis": {
            "backgroundcolor": "#E5ECF6",
            "gridcolor": "white",
            "gridwidth": 2,
            "linecolor": "white",
            "showbackground": true,
            "ticks": "",
            "zerolinecolor": "white"
           }
          },
          "shapedefaults": {
           "line": {
            "color": "#2a3f5f"
           }
          },
          "ternary": {
           "aaxis": {
            "gridcolor": "white",
            "linecolor": "white",
            "ticks": ""
           },
           "baxis": {
            "gridcolor": "white",
            "linecolor": "white",
            "ticks": ""
           },
           "bgcolor": "#E5ECF6",
           "caxis": {
            "gridcolor": "white",
            "linecolor": "white",
            "ticks": ""
           }
          },
          "title": {
           "x": 0.05
          },
          "xaxis": {
           "automargin": true,
           "gridcolor": "white",
           "linecolor": "white",
           "ticks": "",
           "title": {
            "standoff": 15
           },
           "zerolinecolor": "white",
           "zerolinewidth": 2
          },
          "yaxis": {
           "automargin": true,
           "gridcolor": "white",
           "linecolor": "white",
           "ticks": "",
           "title": {
            "standoff": 15
           },
           "zerolinecolor": "white",
           "zerolinewidth": 2
          }
         }
        },
        "title": {
         "text": "Correlation Heatmap"
        },
        "xaxis": {
         "anchor": "y",
         "constrain": "domain",
         "domain": [
          0,
          1
         ],
         "scaleanchor": "y"
        },
        "yaxis": {
         "anchor": "x",
         "autorange": "reversed",
         "constrain": "domain",
         "domain": [
          0,
          1
         ]
        }
       }
      }
     },
     "metadata": {},
     "output_type": "display_data"
    }
   ],
   "source": [
    "corr_matrix = data[[\"discounted_price\", \"actual_price\", \"rating\", \"rating_count\"]].corr().round(1)\n",
    "fig = px.imshow(corr_matrix, text_auto=True, title=\"Correlation Heatmap\")\n",
    "fig.show()"
   ]
  },
  {
   "cell_type": "code",
   "execution_count": null,
   "metadata": {},
   "outputs": [
    {
     "data": {
      "application/vnd.plotly.v1+json": {
       "config": {
        "plotlyServerURL": "https://plot.ly"
       },
       "data": [
        {
         "hovertemplate": "Category=%{x}<br>Profit Margin (₹)=%{marker.color}<extra></extra>",
         "legendgroup": "",
         "marker": {
          "color": {
           "bdata": "fQZJA0EQ6QMnB84BxQJgAAAA",
           "dtype": "i2"
          },
          "coloraxis": "coloraxis",
          "pattern": {
           "shape": ""
          }
         },
         "name": "",
         "orientation": "v",
         "showlegend": false,
         "text": {
          "bdata": "AAAAAAD0mUAAAAAAAEiKQAAAAAAAQbBAAAAAAABIj0AAAAAAAJycQAAAAAAA4HxAAAAAAAAohkAAAAAAAABYQAAAAAAAAAAA",
          "dtype": "f8"
         },
         "textposition": "auto",
         "type": "bar",
         "x": [
          "Car&Motorbike",
          "Computers&Accessories",
          "Electronics",
          "Health&PersonalCare",
          "Home&Kitchen",
          "HomeImprovement",
          "MusicalInstruments",
          "OfficeProducts",
          "Toys&Games"
         ],
         "xaxis": "x",
         "y": {
          "bdata": "fQZJA0EQ6QMnB84BxQJgAAAA",
          "dtype": "i2"
         },
         "yaxis": "y"
        }
       ],
       "layout": {
        "barmode": "relative",
        "coloraxis": {
         "colorbar": {
          "title": {
           "text": "Profit Margin (₹)"
          }
         },
         "colorscale": [
          [
           0,
           "#0d0887"
          ],
          [
           0.1111111111111111,
           "#46039f"
          ],
          [
           0.2222222222222222,
           "#7201a8"
          ],
          [
           0.3333333333333333,
           "#9c179e"
          ],
          [
           0.4444444444444444,
           "#bd3786"
          ],
          [
           0.5555555555555556,
           "#d8576b"
          ],
          [
           0.6666666666666666,
           "#ed7953"
          ],
          [
           0.7777777777777778,
           "#fb9f3a"
          ],
          [
           0.8888888888888888,
           "#fdca26"
          ],
          [
           1,
           "#f0f921"
          ]
         ]
        },
        "legend": {
         "tracegroupgap": 0
        },
        "template": {
         "data": {
          "bar": [
           {
            "error_x": {
             "color": "#2a3f5f"
            },
            "error_y": {
             "color": "#2a3f5f"
            },
            "marker": {
             "line": {
              "color": "#E5ECF6",
              "width": 0.5
             },
             "pattern": {
              "fillmode": "overlay",
              "size": 10,
              "solidity": 0.2
             }
            },
            "type": "bar"
           }
          ],
          "barpolar": [
           {
            "marker": {
             "line": {
              "color": "#E5ECF6",
              "width": 0.5
             },
             "pattern": {
              "fillmode": "overlay",
              "size": 10,
              "solidity": 0.2
             }
            },
            "type": "barpolar"
           }
          ],
          "carpet": [
           {
            "aaxis": {
             "endlinecolor": "#2a3f5f",
             "gridcolor": "white",
             "linecolor": "white",
             "minorgridcolor": "white",
             "startlinecolor": "#2a3f5f"
            },
            "baxis": {
             "endlinecolor": "#2a3f5f",
             "gridcolor": "white",
             "linecolor": "white",
             "minorgridcolor": "white",
             "startlinecolor": "#2a3f5f"
            },
            "type": "carpet"
           }
          ],
          "choropleth": [
           {
            "colorbar": {
             "outlinewidth": 0,
             "ticks": ""
            },
            "type": "choropleth"
           }
          ],
          "contour": [
           {
            "colorbar": {
             "outlinewidth": 0,
             "ticks": ""
            },
            "colorscale": [
             [
              0,
              "#0d0887"
             ],
             [
              0.1111111111111111,
              "#46039f"
             ],
             [
              0.2222222222222222,
              "#7201a8"
             ],
             [
              0.3333333333333333,
              "#9c179e"
             ],
             [
              0.4444444444444444,
              "#bd3786"
             ],
             [
              0.5555555555555556,
              "#d8576b"
             ],
             [
              0.6666666666666666,
              "#ed7953"
             ],
             [
              0.7777777777777778,
              "#fb9f3a"
             ],
             [
              0.8888888888888888,
              "#fdca26"
             ],
             [
              1,
              "#f0f921"
             ]
            ],
            "type": "contour"
           }
          ],
          "contourcarpet": [
           {
            "colorbar": {
             "outlinewidth": 0,
             "ticks": ""
            },
            "type": "contourcarpet"
           }
          ],
          "heatmap": [
           {
            "colorbar": {
             "outlinewidth": 0,
             "ticks": ""
            },
            "colorscale": [
             [
              0,
              "#0d0887"
             ],
             [
              0.1111111111111111,
              "#46039f"
             ],
             [
              0.2222222222222222,
              "#7201a8"
             ],
             [
              0.3333333333333333,
              "#9c179e"
             ],
             [
              0.4444444444444444,
              "#bd3786"
             ],
             [
              0.5555555555555556,
              "#d8576b"
             ],
             [
              0.6666666666666666,
              "#ed7953"
             ],
             [
              0.7777777777777778,
              "#fb9f3a"
             ],
             [
              0.8888888888888888,
              "#fdca26"
             ],
             [
              1,
              "#f0f921"
             ]
            ],
            "type": "heatmap"
           }
          ],
          "histogram": [
           {
            "marker": {
             "pattern": {
              "fillmode": "overlay",
              "size": 10,
              "solidity": 0.2
             }
            },
            "type": "histogram"
           }
          ],
          "histogram2d": [
           {
            "colorbar": {
             "outlinewidth": 0,
             "ticks": ""
            },
            "colorscale": [
             [
              0,
              "#0d0887"
             ],
             [
              0.1111111111111111,
              "#46039f"
             ],
             [
              0.2222222222222222,
              "#7201a8"
             ],
             [
              0.3333333333333333,
              "#9c179e"
             ],
             [
              0.4444444444444444,
              "#bd3786"
             ],
             [
              0.5555555555555556,
              "#d8576b"
             ],
             [
              0.6666666666666666,
              "#ed7953"
             ],
             [
              0.7777777777777778,
              "#fb9f3a"
             ],
             [
              0.8888888888888888,
              "#fdca26"
             ],
             [
              1,
              "#f0f921"
             ]
            ],
            "type": "histogram2d"
           }
          ],
          "histogram2dcontour": [
           {
            "colorbar": {
             "outlinewidth": 0,
             "ticks": ""
            },
            "colorscale": [
             [
              0,
              "#0d0887"
             ],
             [
              0.1111111111111111,
              "#46039f"
             ],
             [
              0.2222222222222222,
              "#7201a8"
             ],
             [
              0.3333333333333333,
              "#9c179e"
             ],
             [
              0.4444444444444444,
              "#bd3786"
             ],
             [
              0.5555555555555556,
              "#d8576b"
             ],
             [
              0.6666666666666666,
              "#ed7953"
             ],
             [
              0.7777777777777778,
              "#fb9f3a"
             ],
             [
              0.8888888888888888,
              "#fdca26"
             ],
             [
              1,
              "#f0f921"
             ]
            ],
            "type": "histogram2dcontour"
           }
          ],
          "mesh3d": [
           {
            "colorbar": {
             "outlinewidth": 0,
             "ticks": ""
            },
            "type": "mesh3d"
           }
          ],
          "parcoords": [
           {
            "line": {
             "colorbar": {
              "outlinewidth": 0,
              "ticks": ""
             }
            },
            "type": "parcoords"
           }
          ],
          "pie": [
           {
            "automargin": true,
            "type": "pie"
           }
          ],
          "scatter": [
           {
            "fillpattern": {
             "fillmode": "overlay",
             "size": 10,
             "solidity": 0.2
            },
            "type": "scatter"
           }
          ],
          "scatter3d": [
           {
            "line": {
             "colorbar": {
              "outlinewidth": 0,
              "ticks": ""
             }
            },
            "marker": {
             "colorbar": {
              "outlinewidth": 0,
              "ticks": ""
             }
            },
            "type": "scatter3d"
           }
          ],
          "scattercarpet": [
           {
            "marker": {
             "colorbar": {
              "outlinewidth": 0,
              "ticks": ""
             }
            },
            "type": "scattercarpet"
           }
          ],
          "scattergeo": [
           {
            "marker": {
             "colorbar": {
              "outlinewidth": 0,
              "ticks": ""
             }
            },
            "type": "scattergeo"
           }
          ],
          "scattergl": [
           {
            "marker": {
             "colorbar": {
              "outlinewidth": 0,
              "ticks": ""
             }
            },
            "type": "scattergl"
           }
          ],
          "scattermap": [
           {
            "marker": {
             "colorbar": {
              "outlinewidth": 0,
              "ticks": ""
             }
            },
            "type": "scattermap"
           }
          ],
          "scattermapbox": [
           {
            "marker": {
             "colorbar": {
              "outlinewidth": 0,
              "ticks": ""
             }
            },
            "type": "scattermapbox"
           }
          ],
          "scatterpolar": [
           {
            "marker": {
             "colorbar": {
              "outlinewidth": 0,
              "ticks": ""
             }
            },
            "type": "scatterpolar"
           }
          ],
          "scatterpolargl": [
           {
            "marker": {
             "colorbar": {
              "outlinewidth": 0,
              "ticks": ""
             }
            },
            "type": "scatterpolargl"
           }
          ],
          "scatterternary": [
           {
            "marker": {
             "colorbar": {
              "outlinewidth": 0,
              "ticks": ""
             }
            },
            "type": "scatterternary"
           }
          ],
          "surface": [
           {
            "colorbar": {
             "outlinewidth": 0,
             "ticks": ""
            },
            "colorscale": [
             [
              0,
              "#0d0887"
             ],
             [
              0.1111111111111111,
              "#46039f"
             ],
             [
              0.2222222222222222,
              "#7201a8"
             ],
             [
              0.3333333333333333,
              "#9c179e"
             ],
             [
              0.4444444444444444,
              "#bd3786"
             ],
             [
              0.5555555555555556,
              "#d8576b"
             ],
             [
              0.6666666666666666,
              "#ed7953"
             ],
             [
              0.7777777777777778,
              "#fb9f3a"
             ],
             [
              0.8888888888888888,
              "#fdca26"
             ],
             [
              1,
              "#f0f921"
             ]
            ],
            "type": "surface"
           }
          ],
          "table": [
           {
            "cells": {
             "fill": {
              "color": "#EBF0F8"
             },
             "line": {
              "color": "white"
             }
            },
            "header": {
             "fill": {
              "color": "#C8D4E3"
             },
             "line": {
              "color": "white"
             }
            },
            "type": "table"
           }
          ]
         },
         "layout": {
          "annotationdefaults": {
           "arrowcolor": "#2a3f5f",
           "arrowhead": 0,
           "arrowwidth": 1
          },
          "autotypenumbers": "strict",
          "coloraxis": {
           "colorbar": {
            "outlinewidth": 0,
            "ticks": ""
           }
          },
          "colorscale": {
           "diverging": [
            [
             0,
             "#8e0152"
            ],
            [
             0.1,
             "#c51b7d"
            ],
            [
             0.2,
             "#de77ae"
            ],
            [
             0.3,
             "#f1b6da"
            ],
            [
             0.4,
             "#fde0ef"
            ],
            [
             0.5,
             "#f7f7f7"
            ],
            [
             0.6,
             "#e6f5d0"
            ],
            [
             0.7,
             "#b8e186"
            ],
            [
             0.8,
             "#7fbc41"
            ],
            [
             0.9,
             "#4d9221"
            ],
            [
             1,
             "#276419"
            ]
           ],
           "sequential": [
            [
             0,
             "#0d0887"
            ],
            [
             0.1111111111111111,
             "#46039f"
            ],
            [
             0.2222222222222222,
             "#7201a8"
            ],
            [
             0.3333333333333333,
             "#9c179e"
            ],
            [
             0.4444444444444444,
             "#bd3786"
            ],
            [
             0.5555555555555556,
             "#d8576b"
            ],
            [
             0.6666666666666666,
             "#ed7953"
            ],
            [
             0.7777777777777778,
             "#fb9f3a"
            ],
            [
             0.8888888888888888,
             "#fdca26"
            ],
            [
             1,
             "#f0f921"
            ]
           ],
           "sequentialminus": [
            [
             0,
             "#0d0887"
            ],
            [
             0.1111111111111111,
             "#46039f"
            ],
            [
             0.2222222222222222,
             "#7201a8"
            ],
            [
             0.3333333333333333,
             "#9c179e"
            ],
            [
             0.4444444444444444,
             "#bd3786"
            ],
            [
             0.5555555555555556,
             "#d8576b"
            ],
            [
             0.6666666666666666,
             "#ed7953"
            ],
            [
             0.7777777777777778,
             "#fb9f3a"
            ],
            [
             0.8888888888888888,
             "#fdca26"
            ],
            [
             1,
             "#f0f921"
            ]
           ]
          },
          "colorway": [
           "#636efa",
           "#EF553B",
           "#00cc96",
           "#ab63fa",
           "#FFA15A",
           "#19d3f3",
           "#FF6692",
           "#B6E880",
           "#FF97FF",
           "#FECB52"
          ],
          "font": {
           "color": "#2a3f5f"
          },
          "geo": {
           "bgcolor": "white",
           "lakecolor": "white",
           "landcolor": "#E5ECF6",
           "showlakes": true,
           "showland": true,
           "subunitcolor": "white"
          },
          "hoverlabel": {
           "align": "left"
          },
          "hovermode": "closest",
          "mapbox": {
           "style": "light"
          },
          "paper_bgcolor": "white",
          "plot_bgcolor": "#E5ECF6",
          "polar": {
           "angularaxis": {
            "gridcolor": "white",
            "linecolor": "white",
            "ticks": ""
           },
           "bgcolor": "#E5ECF6",
           "radialaxis": {
            "gridcolor": "white",
            "linecolor": "white",
            "ticks": ""
           }
          },
          "scene": {
           "xaxis": {
            "backgroundcolor": "#E5ECF6",
            "gridcolor": "white",
            "gridwidth": 2,
            "linecolor": "white",
            "showbackground": true,
            "ticks": "",
            "zerolinecolor": "white"
           },
           "yaxis": {
            "backgroundcolor": "#E5ECF6",
            "gridcolor": "white",
            "gridwidth": 2,
            "linecolor": "white",
            "showbackground": true,
            "ticks": "",
            "zerolinecolor": "white"
           },
           "zaxis": {
            "backgroundcolor": "#E5ECF6",
            "gridcolor": "white",
            "gridwidth": 2,
            "linecolor": "white",
            "showbackground": true,
            "ticks": "",
            "zerolinecolor": "white"
           }
          },
          "shapedefaults": {
           "line": {
            "color": "#2a3f5f"
           }
          },
          "ternary": {
           "aaxis": {
            "gridcolor": "white",
            "linecolor": "white",
            "ticks": ""
           },
           "baxis": {
            "gridcolor": "white",
            "linecolor": "white",
            "ticks": ""
           },
           "bgcolor": "#E5ECF6",
           "caxis": {
            "gridcolor": "white",
            "linecolor": "white",
            "ticks": ""
           }
          },
          "title": {
           "x": 0.05
          },
          "xaxis": {
           "automargin": true,
           "gridcolor": "white",
           "linecolor": "white",
           "ticks": "",
           "title": {
            "standoff": 15
           },
           "zerolinecolor": "white",
           "zerolinewidth": 2
          },
          "yaxis": {
           "automargin": true,
           "gridcolor": "white",
           "linecolor": "white",
           "ticks": "",
           "title": {
            "standoff": 15
           },
           "zerolinecolor": "white",
           "zerolinewidth": 2
          }
         }
        },
        "title": {
         "text": "Average Profit Margin by Category"
        },
        "xaxis": {
         "anchor": "y",
         "domain": [
          0,
          1
         ],
         "title": {
          "text": "Category"
         }
        },
        "yaxis": {
         "anchor": "x",
         "domain": [
          0,
          1
         ],
         "title": {
          "text": "Profit Margin (₹)"
         }
        }
       }
      }
     },
     "metadata": {},
     "output_type": "display_data"
    }
   ],
   "source": [
    "avg_profit_margin = data.groupby(\"category_top\")[\"profit_margin\"].mean().round(0).astype(int).reset_index()\n",
    "\n",
    "fig = px.bar(\n",
    "    avg_profit_margin, \n",
    "    x=\"category_top\", \n",
    "    y=\"profit_margin\", \n",
    "    color=\"profit_margin\",\n",
    "    title=\"Average Profit Margin by Category\",\n",
    "    labels={\"category_top\": \"Category\", \"profit_margin\": \"Profit Margin (₹)\"},\n",
    "    text=\"profit_margin\"\n",
    ")\n",
    "fig.show()"
   ]
  },
  {
   "cell_type": "code",
   "execution_count": null,
   "metadata": {},
   "outputs": [
    {
     "data": {
      "application/vnd.plotly.v1+json": {
       "config": {
        "plotlyServerURL": "https://plot.ly"
       },
       "data": [
        {
         "hovertemplate": "category_top=%{x}<br>y=%{y}<extra></extra>",
         "legendgroup": "",
         "marker": {
          "color": "#636efa",
          "pattern": {
           "shape": ""
          }
         },
         "name": "",
         "orientation": "v",
         "showlegend": false,
         "textposition": "auto",
         "type": "bar",
         "x": [
          "Electronics",
          "Computers&Accessories",
          "Home&Kitchen",
          "OfficeProducts",
          "MusicalInstruments",
          "HomeImprovement",
          "Toys&Games",
          "Car&Motorbike",
          "Health&PersonalCare"
         ],
         "xaxis": "x",
         "y": {
          "bdata": "DgLFAcABHwACAAIAAQABAAEA",
          "dtype": "i2"
         },
         "yaxis": "y"
        }
       ],
       "layout": {
        "barmode": "relative",
        "legend": {
         "tracegroupgap": 0
        },
        "template": {
         "data": {
          "bar": [
           {
            "error_x": {
             "color": "#2a3f5f"
            },
            "error_y": {
             "color": "#2a3f5f"
            },
            "marker": {
             "line": {
              "color": "#E5ECF6",
              "width": 0.5
             },
             "pattern": {
              "fillmode": "overlay",
              "size": 10,
              "solidity": 0.2
             }
            },
            "type": "bar"
           }
          ],
          "barpolar": [
           {
            "marker": {
             "line": {
              "color": "#E5ECF6",
              "width": 0.5
             },
             "pattern": {
              "fillmode": "overlay",
              "size": 10,
              "solidity": 0.2
             }
            },
            "type": "barpolar"
           }
          ],
          "carpet": [
           {
            "aaxis": {
             "endlinecolor": "#2a3f5f",
             "gridcolor": "white",
             "linecolor": "white",
             "minorgridcolor": "white",
             "startlinecolor": "#2a3f5f"
            },
            "baxis": {
             "endlinecolor": "#2a3f5f",
             "gridcolor": "white",
             "linecolor": "white",
             "minorgridcolor": "white",
             "startlinecolor": "#2a3f5f"
            },
            "type": "carpet"
           }
          ],
          "choropleth": [
           {
            "colorbar": {
             "outlinewidth": 0,
             "ticks": ""
            },
            "type": "choropleth"
           }
          ],
          "contour": [
           {
            "colorbar": {
             "outlinewidth": 0,
             "ticks": ""
            },
            "colorscale": [
             [
              0,
              "#0d0887"
             ],
             [
              0.1111111111111111,
              "#46039f"
             ],
             [
              0.2222222222222222,
              "#7201a8"
             ],
             [
              0.3333333333333333,
              "#9c179e"
             ],
             [
              0.4444444444444444,
              "#bd3786"
             ],
             [
              0.5555555555555556,
              "#d8576b"
             ],
             [
              0.6666666666666666,
              "#ed7953"
             ],
             [
              0.7777777777777778,
              "#fb9f3a"
             ],
             [
              0.8888888888888888,
              "#fdca26"
             ],
             [
              1,
              "#f0f921"
             ]
            ],
            "type": "contour"
           }
          ],
          "contourcarpet": [
           {
            "colorbar": {
             "outlinewidth": 0,
             "ticks": ""
            },
            "type": "contourcarpet"
           }
          ],
          "heatmap": [
           {
            "colorbar": {
             "outlinewidth": 0,
             "ticks": ""
            },
            "colorscale": [
             [
              0,
              "#0d0887"
             ],
             [
              0.1111111111111111,
              "#46039f"
             ],
             [
              0.2222222222222222,
              "#7201a8"
             ],
             [
              0.3333333333333333,
              "#9c179e"
             ],
             [
              0.4444444444444444,
              "#bd3786"
             ],
             [
              0.5555555555555556,
              "#d8576b"
             ],
             [
              0.6666666666666666,
              "#ed7953"
             ],
             [
              0.7777777777777778,
              "#fb9f3a"
             ],
             [
              0.8888888888888888,
              "#fdca26"
             ],
             [
              1,
              "#f0f921"
             ]
            ],
            "type": "heatmap"
           }
          ],
          "histogram": [
           {
            "marker": {
             "pattern": {
              "fillmode": "overlay",
              "size": 10,
              "solidity": 0.2
             }
            },
            "type": "histogram"
           }
          ],
          "histogram2d": [
           {
            "colorbar": {
             "outlinewidth": 0,
             "ticks": ""
            },
            "colorscale": [
             [
              0,
              "#0d0887"
             ],
             [
              0.1111111111111111,
              "#46039f"
             ],
             [
              0.2222222222222222,
              "#7201a8"
             ],
             [
              0.3333333333333333,
              "#9c179e"
             ],
             [
              0.4444444444444444,
              "#bd3786"
             ],
             [
              0.5555555555555556,
              "#d8576b"
             ],
             [
              0.6666666666666666,
              "#ed7953"
             ],
             [
              0.7777777777777778,
              "#fb9f3a"
             ],
             [
              0.8888888888888888,
              "#fdca26"
             ],
             [
              1,
              "#f0f921"
             ]
            ],
            "type": "histogram2d"
           }
          ],
          "histogram2dcontour": [
           {
            "colorbar": {
             "outlinewidth": 0,
             "ticks": ""
            },
            "colorscale": [
             [
              0,
              "#0d0887"
             ],
             [
              0.1111111111111111,
              "#46039f"
             ],
             [
              0.2222222222222222,
              "#7201a8"
             ],
             [
              0.3333333333333333,
              "#9c179e"
             ],
             [
              0.4444444444444444,
              "#bd3786"
             ],
             [
              0.5555555555555556,
              "#d8576b"
             ],
             [
              0.6666666666666666,
              "#ed7953"
             ],
             [
              0.7777777777777778,
              "#fb9f3a"
             ],
             [
              0.8888888888888888,
              "#fdca26"
             ],
             [
              1,
              "#f0f921"
             ]
            ],
            "type": "histogram2dcontour"
           }
          ],
          "mesh3d": [
           {
            "colorbar": {
             "outlinewidth": 0,
             "ticks": ""
            },
            "type": "mesh3d"
           }
          ],
          "parcoords": [
           {
            "line": {
             "colorbar": {
              "outlinewidth": 0,
              "ticks": ""
             }
            },
            "type": "parcoords"
           }
          ],
          "pie": [
           {
            "automargin": true,
            "type": "pie"
           }
          ],
          "scatter": [
           {
            "fillpattern": {
             "fillmode": "overlay",
             "size": 10,
             "solidity": 0.2
            },
            "type": "scatter"
           }
          ],
          "scatter3d": [
           {
            "line": {
             "colorbar": {
              "outlinewidth": 0,
              "ticks": ""
             }
            },
            "marker": {
             "colorbar": {
              "outlinewidth": 0,
              "ticks": ""
             }
            },
            "type": "scatter3d"
           }
          ],
          "scattercarpet": [
           {
            "marker": {
             "colorbar": {
              "outlinewidth": 0,
              "ticks": ""
             }
            },
            "type": "scattercarpet"
           }
          ],
          "scattergeo": [
           {
            "marker": {
             "colorbar": {
              "outlinewidth": 0,
              "ticks": ""
             }
            },
            "type": "scattergeo"
           }
          ],
          "scattergl": [
           {
            "marker": {
             "colorbar": {
              "outlinewidth": 0,
              "ticks": ""
             }
            },
            "type": "scattergl"
           }
          ],
          "scattermap": [
           {
            "marker": {
             "colorbar": {
              "outlinewidth": 0,
              "ticks": ""
             }
            },
            "type": "scattermap"
           }
          ],
          "scattermapbox": [
           {
            "marker": {
             "colorbar": {
              "outlinewidth": 0,
              "ticks": ""
             }
            },
            "type": "scattermapbox"
           }
          ],
          "scatterpolar": [
           {
            "marker": {
             "colorbar": {
              "outlinewidth": 0,
              "ticks": ""
             }
            },
            "type": "scatterpolar"
           }
          ],
          "scatterpolargl": [
           {
            "marker": {
             "colorbar": {
              "outlinewidth": 0,
              "ticks": ""
             }
            },
            "type": "scatterpolargl"
           }
          ],
          "scatterternary": [
           {
            "marker": {
             "colorbar": {
              "outlinewidth": 0,
              "ticks": ""
             }
            },
            "type": "scatterternary"
           }
          ],
          "surface": [
           {
            "colorbar": {
             "outlinewidth": 0,
             "ticks": ""
            },
            "colorscale": [
             [
              0,
              "#0d0887"
             ],
             [
              0.1111111111111111,
              "#46039f"
             ],
             [
              0.2222222222222222,
              "#7201a8"
             ],
             [
              0.3333333333333333,
              "#9c179e"
             ],
             [
              0.4444444444444444,
              "#bd3786"
             ],
             [
              0.5555555555555556,
              "#d8576b"
             ],
             [
              0.6666666666666666,
              "#ed7953"
             ],
             [
              0.7777777777777778,
              "#fb9f3a"
             ],
             [
              0.8888888888888888,
              "#fdca26"
             ],
             [
              1,
              "#f0f921"
             ]
            ],
            "type": "surface"
           }
          ],
          "table": [
           {
            "cells": {
             "fill": {
              "color": "#EBF0F8"
             },
             "line": {
              "color": "white"
             }
            },
            "header": {
             "fill": {
              "color": "#C8D4E3"
             },
             "line": {
              "color": "white"
             }
            },
            "type": "table"
           }
          ]
         },
         "layout": {
          "annotationdefaults": {
           "arrowcolor": "#2a3f5f",
           "arrowhead": 0,
           "arrowwidth": 1
          },
          "autotypenumbers": "strict",
          "coloraxis": {
           "colorbar": {
            "outlinewidth": 0,
            "ticks": ""
           }
          },
          "colorscale": {
           "diverging": [
            [
             0,
             "#8e0152"
            ],
            [
             0.1,
             "#c51b7d"
            ],
            [
             0.2,
             "#de77ae"
            ],
            [
             0.3,
             "#f1b6da"
            ],
            [
             0.4,
             "#fde0ef"
            ],
            [
             0.5,
             "#f7f7f7"
            ],
            [
             0.6,
             "#e6f5d0"
            ],
            [
             0.7,
             "#b8e186"
            ],
            [
             0.8,
             "#7fbc41"
            ],
            [
             0.9,
             "#4d9221"
            ],
            [
             1,
             "#276419"
            ]
           ],
           "sequential": [
            [
             0,
             "#0d0887"
            ],
            [
             0.1111111111111111,
             "#46039f"
            ],
            [
             0.2222222222222222,
             "#7201a8"
            ],
            [
             0.3333333333333333,
             "#9c179e"
            ],
            [
             0.4444444444444444,
             "#bd3786"
            ],
            [
             0.5555555555555556,
             "#d8576b"
            ],
            [
             0.6666666666666666,
             "#ed7953"
            ],
            [
             0.7777777777777778,
             "#fb9f3a"
            ],
            [
             0.8888888888888888,
             "#fdca26"
            ],
            [
             1,
             "#f0f921"
            ]
           ],
           "sequentialminus": [
            [
             0,
             "#0d0887"
            ],
            [
             0.1111111111111111,
             "#46039f"
            ],
            [
             0.2222222222222222,
             "#7201a8"
            ],
            [
             0.3333333333333333,
             "#9c179e"
            ],
            [
             0.4444444444444444,
             "#bd3786"
            ],
            [
             0.5555555555555556,
             "#d8576b"
            ],
            [
             0.6666666666666666,
             "#ed7953"
            ],
            [
             0.7777777777777778,
             "#fb9f3a"
            ],
            [
             0.8888888888888888,
             "#fdca26"
            ],
            [
             1,
             "#f0f921"
            ]
           ]
          },
          "colorway": [
           "#636efa",
           "#EF553B",
           "#00cc96",
           "#ab63fa",
           "#FFA15A",
           "#19d3f3",
           "#FF6692",
           "#B6E880",
           "#FF97FF",
           "#FECB52"
          ],
          "font": {
           "color": "#2a3f5f"
          },
          "geo": {
           "bgcolor": "white",
           "lakecolor": "white",
           "landcolor": "#E5ECF6",
           "showlakes": true,
           "showland": true,
           "subunitcolor": "white"
          },
          "hoverlabel": {
           "align": "left"
          },
          "hovermode": "closest",
          "mapbox": {
           "style": "light"
          },
          "paper_bgcolor": "white",
          "plot_bgcolor": "#E5ECF6",
          "polar": {
           "angularaxis": {
            "gridcolor": "white",
            "linecolor": "white",
            "ticks": ""
           },
           "bgcolor": "#E5ECF6",
           "radialaxis": {
            "gridcolor": "white",
            "linecolor": "white",
            "ticks": ""
           }
          },
          "scene": {
           "xaxis": {
            "backgroundcolor": "#E5ECF6",
            "gridcolor": "white",
            "gridwidth": 2,
            "linecolor": "white",
            "showbackground": true,
            "ticks": "",
            "zerolinecolor": "white"
           },
           "yaxis": {
            "backgroundcolor": "#E5ECF6",
            "gridcolor": "white",
            "gridwidth": 2,
            "linecolor": "white",
            "showbackground": true,
            "ticks": "",
            "zerolinecolor": "white"
           },
           "zaxis": {
            "backgroundcolor": "#E5ECF6",
            "gridcolor": "white",
            "gridwidth": 2,
            "linecolor": "white",
            "showbackground": true,
            "ticks": "",
            "zerolinecolor": "white"
           }
          },
          "shapedefaults": {
           "line": {
            "color": "#2a3f5f"
           }
          },
          "ternary": {
           "aaxis": {
            "gridcolor": "white",
            "linecolor": "white",
            "ticks": ""
           },
           "baxis": {
            "gridcolor": "white",
            "linecolor": "white",
            "ticks": ""
           },
           "bgcolor": "#E5ECF6",
           "caxis": {
            "gridcolor": "white",
            "linecolor": "white",
            "ticks": ""
           }
          },
          "title": {
           "x": 0.05
          },
          "xaxis": {
           "automargin": true,
           "gridcolor": "white",
           "linecolor": "white",
           "ticks": "",
           "title": {
            "standoff": 15
           },
           "zerolinecolor": "white",
           "zerolinewidth": 2
          },
          "yaxis": {
           "automargin": true,
           "gridcolor": "white",
           "linecolor": "white",
           "ticks": "",
           "title": {
            "standoff": 15
           },
           "zerolinecolor": "white",
           "zerolinewidth": 2
          }
         }
        },
        "title": {
         "text": "Product Distribution by Top-Level Category"
        },
        "xaxis": {
         "anchor": "y",
         "domain": [
          0,
          1
         ],
         "title": {
          "text": "category_top"
         }
        },
        "yaxis": {
         "anchor": "x",
         "domain": [
          0,
          1
         ],
         "title": {
          "text": "y"
         }
        }
       }
      }
     },
     "metadata": {},
     "output_type": "display_data"
    }
   ],
   "source": [
    "top_categories = data[\"category_top\"].value_counts().head(10)\n",
    "\n",
    "fig = px.bar(\n",
    "    top_categories,\n",
    "    x=top_categories.index,\n",
    "    y=top_categories.values,\n",
    "    title=\"Product Distribution by Top-Level Category\",\n",
    "    labels={\"y\": \"Number of Products\", \"x\": \"Category\"}\n",
    ")\n",
    "\n",
    "fig.show()\n"
   ]
  }
 ],
 "metadata": {
  "kernelspec": {
   "display_name": "Python 3",
   "language": "python",
   "name": "python3"
  },
  "language_info": {
   "codemirror_mode": {
    "name": "ipython",
    "version": 3
   },
   "file_extension": ".py",
   "mimetype": "text/x-python",
   "name": "python",
   "nbconvert_exporter": "python",
   "pygments_lexer": "ipython3",
   "version": "3.12.0"
  }
 },
 "nbformat": 4,
 "nbformat_minor": 2
}
